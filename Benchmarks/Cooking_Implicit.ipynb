{
 "cells": [
  {
   "cell_type": "code",
   "execution_count": 1,
   "metadata": {},
   "outputs": [
    {
     "name": "stderr",
     "output_type": "stream",
     "text": [
      "Using TensorFlow backend.\n"
     ]
    }
   ],
   "source": [
    "import pandas as pd\n",
    "import numpy as np\n",
    "import string\n",
    "import random as rn\n",
    "\n",
    "%matplotlib inline\n",
    "import matplotlib.pyplot as plt\n",
    "plt.rcParams['figure.figsize'] = (20,20)\n",
    "\n",
    "from IPython.display import SVG\n",
    "from IPython.core.interactiveshell import InteractiveShell\n",
    "InteractiveShell.ast_node_interactivity = \"all\"\n",
    "\n",
    "import scipy.sparse as sparse\n",
    "import pickle\n",
    "import csv\n",
    "import implicit\n",
    "import itertools\n",
    "import copy\n",
    "plt.style.use('ggplot')\n"
   ]
  },
  {
   "cell_type": "code",
   "execution_count": 2,
   "metadata": {
    "collapsed": true
   },
   "outputs": [
    {
     "data": {
      "text/html": [
       "<div>\n",
       "<style scoped>\n",
       "    .dataframe tbody tr th:only-of-type {\n",
       "        vertical-align: middle;\n",
       "    }\n",
       "\n",
       "    .dataframe tbody tr th {\n",
       "        vertical-align: top;\n",
       "    }\n",
       "\n",
       "    .dataframe thead th {\n",
       "        text-align: right;\n",
       "    }\n",
       "</style>\n",
       "<table border=\"1\" class=\"dataframe\">\n",
       "  <thead>\n",
       "    <tr style=\"text-align: right;\">\n",
       "      <th></th>\n",
       "      <th>publishdate</th>\n",
       "      <th>content_id</th>\n",
       "      <th>title_en</th>\n",
       "    </tr>\n",
       "  </thead>\n",
       "  <tbody>\n",
       "    <tr>\n",
       "      <th>0</th>\n",
       "      <td>2017-02-02</td>\n",
       "      <td>R574</td>\n",
       "      <td>Moroccan-inspired chickpea stew</td>\n",
       "    </tr>\n",
       "    <tr>\n",
       "      <th>1</th>\n",
       "      <td>2017-11-05</td>\n",
       "      <td>R943</td>\n",
       "      <td>Lamb and quince tagine</td>\n",
       "    </tr>\n",
       "    <tr>\n",
       "      <th>2</th>\n",
       "      <td>2017-10-16</td>\n",
       "      <td>C27</td>\n",
       "      <td>Fudgy cardamom banana bread</td>\n",
       "    </tr>\n",
       "    <tr>\n",
       "      <th>3</th>\n",
       "      <td>2017-04-29</td>\n",
       "      <td>R702</td>\n",
       "      <td>Braised chicken with couscous</td>\n",
       "    </tr>\n",
       "    <tr>\n",
       "      <th>4</th>\n",
       "      <td>2018-07-24</td>\n",
       "      <td>R1295</td>\n",
       "      <td>East African-style coconut chicken</td>\n",
       "    </tr>\n",
       "  </tbody>\n",
       "</table>\n",
       "</div>"
      ],
      "text/plain": [
       "  publishdate content_id                            title_en\n",
       "0  2017-02-02       R574     Moroccan-inspired chickpea stew\n",
       "1  2017-11-05       R943              Lamb and quince tagine\n",
       "2  2017-10-16        C27         Fudgy cardamom banana bread\n",
       "3  2017-04-29       R702       Braised chicken with couscous\n",
       "4  2018-07-24      R1295  East African-style coconut chicken"
      ]
     },
     "execution_count": 2,
     "metadata": {},
     "output_type": "execute_result"
    }
   ],
   "source": [
    "#get recipe data\n",
    "recipe_all = recipe_all = pd.read_csv('/Users/xun/Documents/Thesis/recipe_data/recipe_data_processed.csv') \n",
    "recipes = recipe_all.iloc[:,0:3]\n",
    "recipes['publishdate'] = recipes['publishdate'].astype('datetime64')\n",
    "recipes.head()"
   ]
  },
  {
   "cell_type": "code",
   "execution_count": 3,
   "metadata": {
    "collapsed": true
   },
   "outputs": [
    {
     "data": {
      "text/html": [
       "<div>\n",
       "<style scoped>\n",
       "    .dataframe tbody tr th:only-of-type {\n",
       "        vertical-align: middle;\n",
       "    }\n",
       "\n",
       "    .dataframe tbody tr th {\n",
       "        vertical-align: top;\n",
       "    }\n",
       "\n",
       "    .dataframe thead th {\n",
       "        text-align: right;\n",
       "    }\n",
       "</style>\n",
       "<table border=\"1\" class=\"dataframe\">\n",
       "  <thead>\n",
       "    <tr style=\"text-align: right;\">\n",
       "      <th></th>\n",
       "      <th>USERID</th>\n",
       "      <th>content_id</th>\n",
       "      <th>TIMESTAMP</th>\n",
       "    </tr>\n",
       "  </thead>\n",
       "  <tbody>\n",
       "    <tr>\n",
       "      <th>0</th>\n",
       "      <td>1735967714</td>\n",
       "      <td>R755</td>\n",
       "      <td>2017-11-15 19:20:53.731</td>\n",
       "    </tr>\n",
       "    <tr>\n",
       "      <th>1</th>\n",
       "      <td>1735967714</td>\n",
       "      <td>R1017</td>\n",
       "      <td>2017-11-28 17:41:43.973</td>\n",
       "    </tr>\n",
       "    <tr>\n",
       "      <th>2</th>\n",
       "      <td>1735967714</td>\n",
       "      <td>R625</td>\n",
       "      <td>2017-11-29 17:54:51.629</td>\n",
       "    </tr>\n",
       "    <tr>\n",
       "      <th>3</th>\n",
       "      <td>1735967714</td>\n",
       "      <td>R302</td>\n",
       "      <td>2017-11-29 17:55:28.847</td>\n",
       "    </tr>\n",
       "    <tr>\n",
       "      <th>4</th>\n",
       "      <td>1735967714</td>\n",
       "      <td>R638</td>\n",
       "      <td>2018-01-23 07:39:59.955</td>\n",
       "    </tr>\n",
       "  </tbody>\n",
       "</table>\n",
       "</div>"
      ],
      "text/plain": [
       "       USERID content_id               TIMESTAMP\n",
       "0  1735967714       R755 2017-11-15 19:20:53.731\n",
       "1  1735967714      R1017 2017-11-28 17:41:43.973\n",
       "2  1735967714       R625 2017-11-29 17:54:51.629\n",
       "3  1735967714       R302 2017-11-29 17:55:28.847\n",
       "4  1735967714       R638 2018-01-23 07:39:59.955"
      ]
     },
     "execution_count": 3,
     "metadata": {},
     "output_type": "execute_result"
    }
   ],
   "source": [
    "df_all = pd.read_csv('/Users/xun/Documents/Thesis/interaction_data/ks-18m-cooks-v1.csv')\n",
    "df_all = df_all.sort_values(by = ['USERID', 'TIMESTAMP'])\n",
    "df_all = df_all.reset_index(drop=True)\n",
    "\n",
    "df = df_all.iloc[:, 0:3]\n",
    "df.columns = ['USERID', 'content_id', 'TIMESTAMP']\n",
    "df.TIMESTAMP = df.TIMESTAMP.astype('datetime64')\n",
    "df.head()"
   ]
  },
  {
   "cell_type": "code",
   "execution_count": 4,
   "metadata": {
    "collapsed": true
   },
   "outputs": [
    {
     "data": {
      "text/html": [
       "<div>\n",
       "<style scoped>\n",
       "    .dataframe tbody tr th:only-of-type {\n",
       "        vertical-align: middle;\n",
       "    }\n",
       "\n",
       "    .dataframe tbody tr th {\n",
       "        vertical-align: top;\n",
       "    }\n",
       "\n",
       "    .dataframe thead th {\n",
       "        text-align: right;\n",
       "    }\n",
       "</style>\n",
       "<table border=\"1\" class=\"dataframe\">\n",
       "  <thead>\n",
       "    <tr style=\"text-align: right;\">\n",
       "      <th></th>\n",
       "      <th>USERID</th>\n",
       "      <th>title_en</th>\n",
       "      <th>TIMESTAMP</th>\n",
       "    </tr>\n",
       "  </thead>\n",
       "  <tbody>\n",
       "    <tr>\n",
       "      <th>0</th>\n",
       "      <td>1735967714</td>\n",
       "      <td>Fettuccine Alfredo</td>\n",
       "      <td>2017-11-15 19:20:53.731</td>\n",
       "    </tr>\n",
       "    <tr>\n",
       "      <th>1</th>\n",
       "      <td>1735967714</td>\n",
       "      <td>Zurich-style veal and mushroom ragout</td>\n",
       "      <td>2017-11-28 17:41:43.973</td>\n",
       "    </tr>\n",
       "    <tr>\n",
       "      <th>2</th>\n",
       "      <td>1735967714</td>\n",
       "      <td>Shakshuka bowl</td>\n",
       "      <td>2017-11-29 17:54:51.629</td>\n",
       "    </tr>\n",
       "    <tr>\n",
       "      <th>3</th>\n",
       "      <td>1735967714</td>\n",
       "      <td>Shakshuka</td>\n",
       "      <td>2017-11-29 17:55:28.847</td>\n",
       "    </tr>\n",
       "    <tr>\n",
       "      <th>4</th>\n",
       "      <td>1735967714</td>\n",
       "      <td>Thai peanut-coconut soup with rice noodles</td>\n",
       "      <td>2018-01-23 07:39:59.955</td>\n",
       "    </tr>\n",
       "  </tbody>\n",
       "</table>\n",
       "</div>"
      ],
      "text/plain": [
       "       USERID                                    title_en  \\\n",
       "0  1735967714                          Fettuccine Alfredo   \n",
       "1  1735967714       Zurich-style veal and mushroom ragout   \n",
       "2  1735967714                              Shakshuka bowl   \n",
       "3  1735967714                                   Shakshuka   \n",
       "4  1735967714  Thai peanut-coconut soup with rice noodles   \n",
       "\n",
       "                TIMESTAMP  \n",
       "0 2017-11-15 19:20:53.731  \n",
       "1 2017-11-28 17:41:43.973  \n",
       "2 2017-11-29 17:54:51.629  \n",
       "3 2017-11-29 17:55:28.847  \n",
       "4 2018-01-23 07:39:59.955  "
      ]
     },
     "execution_count": 4,
     "metadata": {},
     "output_type": "execute_result"
    }
   ],
   "source": [
    "df = df.merge(recipes, 'left', on = 'content_id' )\n",
    "df_o = df\n",
    "df = df[['USERID', 'title_en', 'TIMESTAMP']]\n",
    "df.head()"
   ]
  },
  {
   "cell_type": "code",
   "execution_count": 7,
   "metadata": {},
   "outputs": [],
   "source": [
    "df = df[~df.title_en.isna()]"
   ]
  },
  {
   "cell_type": "code",
   "execution_count": 8,
   "metadata": {},
   "outputs": [
    {
     "data": {
      "text/plain": [
       "39648"
      ]
     },
     "execution_count": 8,
     "metadata": {},
     "output_type": "execute_result"
    },
    {
     "data": {
      "text/plain": [
       "1743"
      ]
     },
     "execution_count": 8,
     "metadata": {},
     "output_type": "execute_result"
    }
   ],
   "source": [
    "# 39648 users, 1743 items, 859766 cooks\n",
    "len(list(df['USERID'].unique()))\n",
    "len(list(df['title_en'].unique()))"
   ]
  },
  {
   "cell_type": "code",
   "execution_count": 9,
   "metadata": {},
   "outputs": [],
   "source": [
    "# Create mappings\n",
    "index_to_recipe = np.load('/Users/xun/Documents/Thesis/recipe_data/index_to_recipe.npy', allow_pickle=True).item()\n",
    "recipe_to_index = np.load('/Users/xun/Documents/Thesis/recipe_data/recipe_to_index.npy', allow_pickle=True).item()\n",
    "    \n",
    "uid_to_idx = {}\n",
    "idx_to_uid = {}\n",
    "for (idx, uid) in enumerate(df.USERID.unique().tolist()):\n",
    "    uid_to_idx[uid] = idx\n",
    "    idx_to_uid[idx] = uid"
   ]
  },
  {
   "cell_type": "code",
   "execution_count": 10,
   "metadata": {},
   "outputs": [
    {
     "data": {
      "text/plain": [
       "1814"
      ]
     },
     "execution_count": 10,
     "metadata": {},
     "output_type": "execute_result"
    },
    {
     "data": {
      "text/plain": [
       "39648"
      ]
     },
     "execution_count": 10,
     "metadata": {},
     "output_type": "execute_result"
    }
   ],
   "source": [
    "len(recipe_to_index)\n",
    "len(uid_to_idx)"
   ]
  },
  {
   "cell_type": "code",
   "execution_count": 11,
   "metadata": {},
   "outputs": [],
   "source": [
    "def map_ids(row, mapper):\n",
    "    return mapper[row]"
   ]
  },
  {
   "cell_type": "code",
   "execution_count": 12,
   "metadata": {},
   "outputs": [
    {
     "name": "stderr",
     "output_type": "stream",
     "text": [
      "/usr/local/lib/python3.7/site-packages/ipykernel_launcher.py:2: FutureWarning: Method .as_matrix will be removed in a future version. Use .values instead.\n",
      "  \n",
      "/usr/local/lib/python3.7/site-packages/ipykernel_launcher.py:3: FutureWarning: Method .as_matrix will be removed in a future version. Use .values instead.\n",
      "  This is separate from the ipykernel package so we can avoid doing imports until\n"
     ]
    }
   ],
   "source": [
    "\n",
    "I = df.USERID.apply(map_ids, args=[uid_to_idx]).as_matrix() # turn uid to idx\n",
    "J = df.title_en.apply(map_ids, args=[recipe_to_index]).as_matrix() # turn mid to idx\n",
    "V = np.ones(I.shape[0])\n",
    "likes = sparse.coo_matrix((V, (I, J)), dtype=np.float64)\n",
    "likes = likes.tocsr()"
   ]
  },
  {
   "cell_type": "code",
   "execution_count": 13,
   "metadata": {},
   "outputs": [
    {
     "data": {
      "text/html": [
       "<div>\n",
       "<style scoped>\n",
       "    .dataframe tbody tr th:only-of-type {\n",
       "        vertical-align: middle;\n",
       "    }\n",
       "\n",
       "    .dataframe tbody tr th {\n",
       "        vertical-align: top;\n",
       "    }\n",
       "\n",
       "    .dataframe thead th {\n",
       "        text-align: right;\n",
       "    }\n",
       "</style>\n",
       "<table border=\"1\" class=\"dataframe\">\n",
       "  <thead>\n",
       "    <tr style=\"text-align: right;\">\n",
       "      <th></th>\n",
       "      <th>USERID</th>\n",
       "      <th>title_en</th>\n",
       "      <th>TIMESTAMP</th>\n",
       "      <th>uid</th>\n",
       "      <th>rid</th>\n",
       "    </tr>\n",
       "  </thead>\n",
       "  <tbody>\n",
       "    <tr>\n",
       "      <th>0</th>\n",
       "      <td>1735967714</td>\n",
       "      <td>Fettuccine Alfredo</td>\n",
       "      <td>2017-11-15 19:20:53.731</td>\n",
       "      <td>0</td>\n",
       "      <td>808</td>\n",
       "    </tr>\n",
       "    <tr>\n",
       "      <th>1</th>\n",
       "      <td>1735967714</td>\n",
       "      <td>Zurich-style veal and mushroom ragout</td>\n",
       "      <td>2017-11-28 17:41:43.973</td>\n",
       "      <td>0</td>\n",
       "      <td>570</td>\n",
       "    </tr>\n",
       "    <tr>\n",
       "      <th>2</th>\n",
       "      <td>1735967714</td>\n",
       "      <td>Shakshuka bowl</td>\n",
       "      <td>2017-11-29 17:54:51.629</td>\n",
       "      <td>0</td>\n",
       "      <td>1676</td>\n",
       "    </tr>\n",
       "    <tr>\n",
       "      <th>3</th>\n",
       "      <td>1735967714</td>\n",
       "      <td>Shakshuka</td>\n",
       "      <td>2017-11-29 17:55:28.847</td>\n",
       "      <td>0</td>\n",
       "      <td>901</td>\n",
       "    </tr>\n",
       "    <tr>\n",
       "      <th>4</th>\n",
       "      <td>1735967714</td>\n",
       "      <td>Thai peanut-coconut soup with rice noodles</td>\n",
       "      <td>2018-01-23 07:39:59.955</td>\n",
       "      <td>0</td>\n",
       "      <td>1795</td>\n",
       "    </tr>\n",
       "  </tbody>\n",
       "</table>\n",
       "</div>"
      ],
      "text/plain": [
       "       USERID                                    title_en  \\\n",
       "0  1735967714                          Fettuccine Alfredo   \n",
       "1  1735967714       Zurich-style veal and mushroom ragout   \n",
       "2  1735967714                              Shakshuka bowl   \n",
       "3  1735967714                                   Shakshuka   \n",
       "4  1735967714  Thai peanut-coconut soup with rice noodles   \n",
       "\n",
       "                TIMESTAMP  uid   rid  \n",
       "0 2017-11-15 19:20:53.731    0   808  \n",
       "1 2017-11-28 17:41:43.973    0   570  \n",
       "2 2017-11-29 17:54:51.629    0  1676  \n",
       "3 2017-11-29 17:55:28.847    0   901  \n",
       "4 2018-01-23 07:39:59.955    0  1795  "
      ]
     },
     "execution_count": 13,
     "metadata": {},
     "output_type": "execute_result"
    }
   ],
   "source": [
    "df['uid'] = df.USERID.apply(map_ids, args=[uid_to_idx]).values\n",
    "df['rid'] = df.title_en.apply(map_ids, args=[recipe_to_index]).values\n",
    "df.head()"
   ]
  },
  {
   "cell_type": "code",
   "execution_count": 14,
   "metadata": {},
   "outputs": [
    {
     "data": {
      "text/html": [
       "<div>\n",
       "<style scoped>\n",
       "    .dataframe tbody tr th:only-of-type {\n",
       "        vertical-align: middle;\n",
       "    }\n",
       "\n",
       "    .dataframe tbody tr th {\n",
       "        vertical-align: top;\n",
       "    }\n",
       "\n",
       "    .dataframe thead th {\n",
       "        text-align: right;\n",
       "    }\n",
       "</style>\n",
       "<table border=\"1\" class=\"dataframe\">\n",
       "  <thead>\n",
       "    <tr style=\"text-align: right;\">\n",
       "      <th></th>\n",
       "      <th>publishdate</th>\n",
       "      <th>content_id</th>\n",
       "      <th>title_en</th>\n",
       "      <th>rid</th>\n",
       "    </tr>\n",
       "  </thead>\n",
       "  <tbody>\n",
       "    <tr>\n",
       "      <th>0</th>\n",
       "      <td>2017-02-02</td>\n",
       "      <td>R574</td>\n",
       "      <td>Moroccan-inspired chickpea stew</td>\n",
       "      <td>0</td>\n",
       "    </tr>\n",
       "    <tr>\n",
       "      <th>1</th>\n",
       "      <td>2017-11-05</td>\n",
       "      <td>R943</td>\n",
       "      <td>Lamb and quince tagine</td>\n",
       "      <td>1</td>\n",
       "    </tr>\n",
       "    <tr>\n",
       "      <th>2</th>\n",
       "      <td>2017-10-16</td>\n",
       "      <td>C27</td>\n",
       "      <td>Fudgy cardamom banana bread</td>\n",
       "      <td>2</td>\n",
       "    </tr>\n",
       "    <tr>\n",
       "      <th>3</th>\n",
       "      <td>2017-04-29</td>\n",
       "      <td>R702</td>\n",
       "      <td>Braised chicken with couscous</td>\n",
       "      <td>3</td>\n",
       "    </tr>\n",
       "    <tr>\n",
       "      <th>4</th>\n",
       "      <td>2018-07-24</td>\n",
       "      <td>R1295</td>\n",
       "      <td>East African-style coconut chicken</td>\n",
       "      <td>4</td>\n",
       "    </tr>\n",
       "  </tbody>\n",
       "</table>\n",
       "</div>"
      ],
      "text/plain": [
       "  publishdate content_id                            title_en  rid\n",
       "0  2017-02-02       R574     Moroccan-inspired chickpea stew    0\n",
       "1  2017-11-05       R943              Lamb and quince tagine    1\n",
       "2  2017-10-16        C27         Fudgy cardamom banana bread    2\n",
       "3  2017-04-29       R702       Braised chicken with couscous    3\n",
       "4  2018-07-24      R1295  East African-style coconut chicken    4"
      ]
     },
     "execution_count": 14,
     "metadata": {},
     "output_type": "execute_result"
    }
   ],
   "source": [
    "recipes['rid'] = recipes.title_en.apply(map_ids, args=[recipe_to_index]).values\n",
    "recipes.head()"
   ]
  },
  {
   "cell_type": "code",
   "execution_count": 15,
   "metadata": {},
   "outputs": [
    {
     "data": {
      "text/plain": [
       "(859766,)"
      ]
     },
     "execution_count": 15,
     "metadata": {},
     "output_type": "execute_result"
    }
   ],
   "source": [
    "I.shape"
   ]
  },
  {
   "cell_type": "code",
   "execution_count": 16,
   "metadata": {},
   "outputs": [],
   "source": [
    "def train_test_split(ratings, df, split_count, fraction=None):\n",
    "    \"\"\"\n",
    "    Split recommendation data into train and test sets\n",
    "    \n",
    "    Params\n",
    "    ------\n",
    "    ratings : scipy.sparse matrix\n",
    "        Interactions between users and items.\n",
    "    split_count : int\n",
    "        Number of user-item-interactions per user to move\n",
    "        from training to test set.\n",
    "    fractions : float\n",
    "        Fraction of users to split off some of their\n",
    "        interactions into test set. If None, then all \n",
    "        users are considered.\n",
    "    \"\"\"\n",
    "    # Note: likely not the fastest way to do things below.\n",
    "    train = ratings.copy().tocoo()\n",
    "    test = sparse.lil_matrix(train.shape)\n",
    "#     numpy.random.seed(0)\n",
    "    if fraction:\n",
    "        try:\n",
    "            user_index = np.random.choice(\n",
    "                np.where(np.bincount(train.row) >= split_count * 2)[0], \n",
    "                replace=False,\n",
    "                size=np.int32(np.floor(fraction * train.shape[0]))\n",
    "            ).tolist()\n",
    "        except:\n",
    "            print(('Not enough users with > {} '\n",
    "                  'interactions for fraction of {}')\\\n",
    "                  .format(2*k, fraction))\n",
    "            raise\n",
    "    else:\n",
    "        user_index = range(train.shape[0])\n",
    "        \n",
    "    train = train.tolil()\n",
    "\n",
    "    for user in user_index:\n",
    "        test_ratings = df.loc[df['uid']==user][-split_count:]['rid'].values\n",
    "#         test_ratings = np.random.choice(ratings.getrow(user).indices, \n",
    "#                                         size=split_count, \n",
    "#                                         replace=False)\n",
    "        train[user, test_ratings] = 0.\n",
    "        # These are just 1.0 right now\n",
    "        test[user, test_ratings] = ratings[user, test_ratings]\n",
    "   \n",
    "    \n",
    "    # Test and training are truly disjoint\n",
    "    assert(train.multiply(test).nnz == 0)\n",
    "    return train.tocsr(), test.tocsr(), user_index"
   ]
  },
  {
   "cell_type": "code",
   "execution_count": 17,
   "metadata": {},
   "outputs": [],
   "source": [
    "np.random.seed(1234)\n",
    "train, test, user_index = train_test_split(likes, df, 10, fraction=0.1)"
   ]
  },
  {
   "cell_type": "code",
   "execution_count": 18,
   "metadata": {},
   "outputs": [
    {
     "data": {
      "text/plain": [
       "[34899, 20983, 22232, 15600, 2931]"
      ]
     },
     "execution_count": 18,
     "metadata": {},
     "output_type": "execute_result"
    }
   ],
   "source": [
    "user_index[0:5]"
   ]
  },
  {
   "cell_type": "code",
   "execution_count": 20,
   "metadata": {},
   "outputs": [
    {
     "data": {
      "text/plain": [
       "((39648, 1815), (39648, 1815), 3964)"
      ]
     },
     "execution_count": 20,
     "metadata": {},
     "output_type": "execute_result"
    }
   ],
   "source": [
    "train.todense().shape, test.todense().shape, len(user_index)"
   ]
  },
  {
   "cell_type": "code",
   "execution_count": 21,
   "metadata": {},
   "outputs": [
    {
     "data": {
      "text/plain": [
       "(820126, 2)"
      ]
     },
     "execution_count": 21,
     "metadata": {},
     "output_type": "execute_result"
    }
   ],
   "source": [
    "user = train.nonzero()[0]\n",
    "item = train.nonzero()[1]\n",
    "train_df = pd.DataFrame(data=np.column_stack((user,item)),columns=['uid','idx'])\n",
    "# train_df = train_df.merge(mapping, 'inner', on= 'idx')\n",
    "train_df.shape"
   ]
  },
  {
   "cell_type": "code",
   "execution_count": 22,
   "metadata": {},
   "outputs": [
    {
     "data": {
      "text/plain": [
       "(39640, 2)"
      ]
     },
     "execution_count": 22,
     "metadata": {},
     "output_type": "execute_result"
    }
   ],
   "source": [
    "user_test = test.nonzero()[0]\n",
    "item_test = test.nonzero()[1]\n",
    "test_df = pd.DataFrame(data=np.column_stack((user_test,item_test)),columns=['uid','idx'])\n",
    "# test_df = test_df.merge(mapping, 'inner', on= 'idx')\n",
    "test_df.shape"
   ]
  },
  {
   "cell_type": "code",
   "execution_count": 23,
   "metadata": {},
   "outputs": [
    {
     "name": "stderr",
     "output_type": "stream",
     "text": [
      "WARNING:root:OpenBLAS detected. Its highly recommend to set the environment variable 'export OPENBLAS_NUM_THREADS=1' to disable its internal multithreading\n"
     ]
    }
   ],
   "source": [
    "import implicit \n",
    "\n",
    "model_als = implicit.als.AlternatingLeastSquares(factors = 50, regularization = 0.01, \n",
    "                                                         iterations = 100)"
   ]
  },
  {
   "cell_type": "code",
   "execution_count": 24,
   "metadata": {},
   "outputs": [
    {
     "name": "stderr",
     "output_type": "stream",
     "text": [
      "100%|██████████| 100.0/100 [02:08<00:00,  1.10s/it]\n"
     ]
    }
   ],
   "source": [
    "# train is user_items sparse matrix, model.fit(item_users)\n",
    "# training time cooks_18m : 02:09\n",
    "model_als.fit(train.T)"
   ]
  },
  {
   "cell_type": "code",
   "execution_count": 75,
   "metadata": {},
   "outputs": [],
   "source": [
    "# Recommends items for a user\n",
    "recommendations = model_als.recommend(24687, train,  N=10, filter_already_liked_items=False)\n",
    "\n"
   ]
  },
  {
   "cell_type": "code",
   "execution_count": 76,
   "metadata": {
    "scrolled": true
   },
   "outputs": [
    {
     "data": {
      "text/plain": [
       "[(1698, 1.0726285),\n",
       " (610, 1.0016286),\n",
       " (674, 0.95832396),\n",
       " (330, 0.951195),\n",
       " (901, 0.951151),\n",
       " (783, 0.90967643),\n",
       " (883, 0.84464735),\n",
       " (933, 0.8245903),\n",
       " (1082, 0.7832339),\n",
       " (794, 0.5095008)]"
      ]
     },
     "execution_count": 76,
     "metadata": {},
     "output_type": "execute_result"
    }
   ],
   "source": [
    "recommendations#[0][0]"
   ]
  },
  {
   "cell_type": "code",
   "execution_count": 77,
   "metadata": {},
   "outputs": [
    {
     "data": {
      "text/plain": [
       "[1698, 610, 674, 330, 901, 783, 883, 933, 1082, 794]"
      ]
     },
     "execution_count": 77,
     "metadata": {},
     "output_type": "execute_result"
    }
   ],
   "source": [
    "def get_rec_id(list):\n",
    "    ids = []\n",
    "    for item in list:\n",
    "        item = item[0]\n",
    "        ids.append(item)\n",
    "    return ids\n",
    "get_rec_id(recommendations) "
   ]
  },
  {
   "cell_type": "code",
   "execution_count": 78,
   "metadata": {},
   "outputs": [
    {
     "data": {
      "text/plain": [
       "['Chili con carne',\n",
       " 'Sweet potato curry',\n",
       " 'Four-cheese and tomato baked penne',\n",
       " 'Oven ratatouille with feta',\n",
       " 'Shakshuka',\n",
       " 'One-pot spinach pasta',\n",
       " 'Hot chickpea soup',\n",
       " 'Creamy whole wheat pasta with chicken',\n",
       " 'Quick tomato soup',\n",
       " 'One-pot red pepper pasta with chicken']"
      ]
     },
     "execution_count": 78,
     "metadata": {},
     "output_type": "execute_result"
    }
   ],
   "source": [
    "def get_rec_title(list):\n",
    "    titles = []\n",
    "    for item in get_rec_id(list):\n",
    "        title = index_to_recipe[item]\n",
    "        titles.append(title)\n",
    "    return titles\n",
    "get_rec_title(recommendations)"
   ]
  },
  {
   "cell_type": "code",
   "execution_count": 79,
   "metadata": {},
   "outputs": [
    {
     "data": {
      "text/html": [
       "<div>\n",
       "<style scoped>\n",
       "    .dataframe tbody tr th:only-of-type {\n",
       "        vertical-align: middle;\n",
       "    }\n",
       "\n",
       "    .dataframe tbody tr th {\n",
       "        vertical-align: top;\n",
       "    }\n",
       "\n",
       "    .dataframe thead th {\n",
       "        text-align: right;\n",
       "    }\n",
       "</style>\n",
       "<table border=\"1\" class=\"dataframe\">\n",
       "  <thead>\n",
       "    <tr style=\"text-align: right;\">\n",
       "      <th></th>\n",
       "      <th>publishdate</th>\n",
       "      <th>content_id</th>\n",
       "      <th>title_en</th>\n",
       "      <th>rid</th>\n",
       "    </tr>\n",
       "  </thead>\n",
       "  <tbody>\n",
       "    <tr>\n",
       "      <th>330</th>\n",
       "      <td>2015-08-24</td>\n",
       "      <td>R121</td>\n",
       "      <td>Oven ratatouille with feta</td>\n",
       "      <td>330</td>\n",
       "    </tr>\n",
       "    <tr>\n",
       "      <th>610</th>\n",
       "      <td>2015-05-06</td>\n",
       "      <td>R203</td>\n",
       "      <td>Sweet potato curry</td>\n",
       "      <td>610</td>\n",
       "    </tr>\n",
       "    <tr>\n",
       "      <th>674</th>\n",
       "      <td>2017-04-05</td>\n",
       "      <td>R489</td>\n",
       "      <td>Four-cheese and tomato baked penne</td>\n",
       "      <td>674</td>\n",
       "    </tr>\n",
       "    <tr>\n",
       "      <th>783</th>\n",
       "      <td>2017-10-06</td>\n",
       "      <td>R822</td>\n",
       "      <td>One-pot spinach pasta</td>\n",
       "      <td>783</td>\n",
       "    </tr>\n",
       "    <tr>\n",
       "      <th>794</th>\n",
       "      <td>2018-03-29</td>\n",
       "      <td>R1164</td>\n",
       "      <td>One-pot red pepper pasta with chicken</td>\n",
       "      <td>794</td>\n",
       "    </tr>\n",
       "    <tr>\n",
       "      <th>883</th>\n",
       "      <td>2015-11-05</td>\n",
       "      <td>R341</td>\n",
       "      <td>Hot chickpea soup</td>\n",
       "      <td>883</td>\n",
       "    </tr>\n",
       "    <tr>\n",
       "      <th>901</th>\n",
       "      <td>2015-09-24</td>\n",
       "      <td>R302</td>\n",
       "      <td>Shakshuka</td>\n",
       "      <td>901</td>\n",
       "    </tr>\n",
       "    <tr>\n",
       "      <th>933</th>\n",
       "      <td>2014-11-26</td>\n",
       "      <td>R124</td>\n",
       "      <td>Creamy whole wheat pasta with chicken</td>\n",
       "      <td>933</td>\n",
       "    </tr>\n",
       "    <tr>\n",
       "      <th>1082</th>\n",
       "      <td>2017-01-11</td>\n",
       "      <td>R569</td>\n",
       "      <td>Quick tomato soup</td>\n",
       "      <td>1082</td>\n",
       "    </tr>\n",
       "    <tr>\n",
       "      <th>1698</th>\n",
       "      <td>2015-07-10</td>\n",
       "      <td>R260</td>\n",
       "      <td>Chili con carne</td>\n",
       "      <td>1698</td>\n",
       "    </tr>\n",
       "  </tbody>\n",
       "</table>\n",
       "</div>"
      ],
      "text/plain": [
       "     publishdate content_id                               title_en   rid\n",
       "330   2015-08-24       R121             Oven ratatouille with feta   330\n",
       "610   2015-05-06       R203                     Sweet potato curry   610\n",
       "674   2017-04-05       R489     Four-cheese and tomato baked penne   674\n",
       "783   2017-10-06       R822                  One-pot spinach pasta   783\n",
       "794   2018-03-29      R1164  One-pot red pepper pasta with chicken   794\n",
       "883   2015-11-05       R341                      Hot chickpea soup   883\n",
       "901   2015-09-24       R302                              Shakshuka   901\n",
       "933   2014-11-26       R124  Creamy whole wheat pasta with chicken   933\n",
       "1082  2017-01-11       R569                      Quick tomato soup  1082\n",
       "1698  2015-07-10       R260                        Chili con carne  1698"
      ]
     },
     "execution_count": 79,
     "metadata": {},
     "output_type": "execute_result"
    }
   ],
   "source": [
    "recipes[recipes['rid'].isin(get_rec_id(recommendations))]"
   ]
  },
  {
   "cell_type": "code",
   "execution_count": 80,
   "metadata": {
    "scrolled": true
   },
   "outputs": [
    {
     "data": {
      "text/plain": [
       "[1236, 1693, 783, 439, 595, 1775, 181, 883, 641, 878]"
      ]
     },
     "execution_count": 80,
     "metadata": {},
     "output_type": "execute_result"
    }
   ],
   "source": [
    "item_liked = df[df.uid == 24687].rid.tolist()[:-10]\n",
    "item_test = df[df.uid == 24687].rid.tolist()[-10:]\n",
    "item_test"
   ]
  },
  {
   "cell_type": "code",
   "execution_count": null,
   "metadata": {},
   "outputs": [],
   "source": []
  },
  {
   "cell_type": "code",
   "execution_count": 81,
   "metadata": {},
   "outputs": [
    {
     "data": {
      "text/plain": [
       "{783, 883}"
      ]
     },
     "execution_count": 81,
     "metadata": {},
     "output_type": "execute_result"
    }
   ],
   "source": [
    "set(get_rec_id(recommendations)) & set(item_test)"
   ]
  },
  {
   "cell_type": "code",
   "execution_count": 67,
   "metadata": {},
   "outputs": [
    {
     "data": {
      "text/plain": [
       "array([], dtype=int32)"
      ]
     },
     "execution_count": 67,
     "metadata": {},
     "output_type": "execute_result"
    }
   ],
   "source": [
    "test.getrow(24687).indices"
   ]
  },
  {
   "cell_type": "code",
   "execution_count": null,
   "metadata": {},
   "outputs": [],
   "source": [
    "# Calculates a list of similar items\n",
    "related = model_als.similar_items(4, N=10) # East African-style coconut chicken"
   ]
  },
  {
   "cell_type": "code",
   "execution_count": null,
   "metadata": {
    "scrolled": true
   },
   "outputs": [],
   "source": [
    "[related[i][0] for i in range(len(related))]"
   ]
  },
  {
   "cell_type": "code",
   "execution_count": null,
   "metadata": {},
   "outputs": [],
   "source": [
    "similar_item = get_rec_title(related)\n",
    "similar_item"
   ]
  },
  {
   "cell_type": "code",
   "execution_count": null,
   "metadata": {},
   "outputs": [],
   "source": [
    "recipes[recipes['title_en'].isin(similar_item)]"
   ]
  },
  {
   "cell_type": "code",
   "execution_count": null,
   "metadata": {},
   "outputs": [],
   "source": [
    "def precision_at_k_ran(test, user_items, k=10, user_index=None):\n",
    "    if not user_index:\n",
    "        user_index = range(user_items.shape[0])\n",
    "    item_index = test.nonzero()[1]\n",
    "    precisions = []\n",
    "    for user in user_index:\n",
    "        np.random.seed(1234)\n",
    "        random_k = np.random.choice(item_index, replace=False,size=k).tolist()\n",
    "        labels = test.getrow(user).indices\n",
    "        precision = float(len(set(random_k) & set(labels))) / float(k)\n",
    "        precisions.append(precision)\n",
    "    return np.mean(precisions)"
   ]
  },
  {
   "cell_type": "code",
   "execution_count": 32,
   "metadata": {},
   "outputs": [],
   "source": [
    "##Here Recall@10 and Precision@10 is the same, since total # of relevant items = # of recommended items = 10\n",
    "def precision_at_k(model,test, user_items, k=10, user_index=None):\n",
    "    if not user_index:\n",
    "        user_index = range(user_items.shape[0])\n",
    "    user_items = user_items.tocsr()\n",
    "    precisions = []\n",
    "    for user in user_index:\n",
    "        rec = model.recommend(user, user_items,  N=k, filter_already_liked_items= True)\n",
    "        top_k = [rec[i][0] for i in range(len(rec))]\n",
    "        labels = test.getrow(user).indices\n",
    "        precision = float(len(set(top_k) & set(labels))) / float(k)\n",
    "        precisions.append(precision)\n",
    "    return np.mean(precisions)\n"
   ]
  },
  {
   "cell_type": "code",
   "execution_count": 84,
   "metadata": {},
   "outputs": [],
   "source": [
    "del precision_at_k"
   ]
  },
  {
   "cell_type": "code",
   "execution_count": 43,
   "metadata": {},
   "outputs": [
    {
     "data": {
      "text/plain": [
       "[34899, 20983, 22232, 15600, 2931]"
      ]
     },
     "execution_count": 43,
     "metadata": {},
     "output_type": "execute_result"
    }
   ],
   "source": [
    "user_index[0:5]"
   ]
  },
  {
   "cell_type": "code",
   "execution_count": 45,
   "metadata": {},
   "outputs": [
    {
     "data": {
      "text/plain": [
       "<1x1815 sparse matrix of type '<class 'numpy.float64'>'\n",
       "\twith 42 stored elements in Compressed Sparse Row format>"
      ]
     },
     "execution_count": 45,
     "metadata": {},
     "output_type": "execute_result"
    },
    {
     "data": {
      "text/plain": [
       "<1x1815 sparse matrix of type '<class 'numpy.float64'>'\n",
       "\twith 10 stored elements in Compressed Sparse Row format>"
      ]
     },
     "execution_count": 45,
     "metadata": {},
     "output_type": "execute_result"
    }
   ],
   "source": [
    "train.getrow(34899)\n",
    "test.getrow(34899)"
   ]
  },
  {
   "cell_type": "code",
   "execution_count": 46,
   "metadata": {},
   "outputs": [
    {
     "data": {
      "text/html": [
       "<div>\n",
       "<style scoped>\n",
       "    .dataframe tbody tr th:only-of-type {\n",
       "        vertical-align: middle;\n",
       "    }\n",
       "\n",
       "    .dataframe tbody tr th {\n",
       "        vertical-align: top;\n",
       "    }\n",
       "\n",
       "    .dataframe thead th {\n",
       "        text-align: right;\n",
       "    }\n",
       "</style>\n",
       "<table border=\"1\" class=\"dataframe\">\n",
       "  <thead>\n",
       "    <tr style=\"text-align: right;\">\n",
       "      <th></th>\n",
       "      <th>uid</th>\n",
       "      <th>idx</th>\n",
       "    </tr>\n",
       "  </thead>\n",
       "  <tbody>\n",
       "    <tr>\n",
       "      <th>0</th>\n",
       "      <td>0</td>\n",
       "      <td>218</td>\n",
       "    </tr>\n",
       "    <tr>\n",
       "      <th>1</th>\n",
       "      <td>0</td>\n",
       "      <td>397</td>\n",
       "    </tr>\n",
       "    <tr>\n",
       "      <th>2</th>\n",
       "      <td>0</td>\n",
       "      <td>570</td>\n",
       "    </tr>\n",
       "    <tr>\n",
       "      <th>3</th>\n",
       "      <td>0</td>\n",
       "      <td>712</td>\n",
       "    </tr>\n",
       "    <tr>\n",
       "      <th>4</th>\n",
       "      <td>0</td>\n",
       "      <td>783</td>\n",
       "    </tr>\n",
       "  </tbody>\n",
       "</table>\n",
       "</div>"
      ],
      "text/plain": [
       "   uid  idx\n",
       "0    0  218\n",
       "1    0  397\n",
       "2    0  570\n",
       "3    0  712\n",
       "4    0  783"
      ]
     },
     "execution_count": 46,
     "metadata": {},
     "output_type": "execute_result"
    }
   ],
   "source": [
    "train_df.head()"
   ]
  },
  {
   "cell_type": "code",
   "execution_count": 48,
   "metadata": {},
   "outputs": [
    {
     "data": {
      "text/plain": [
       "0"
      ]
     },
     "execution_count": 48,
     "metadata": {},
     "output_type": "execute_result"
    }
   ],
   "source": [
    "a = train_df.idx.unique()\n",
    "b = test_df.idx.unique()\n",
    "\n",
    "missing = []\n",
    "for i in b:\n",
    "  if i not in a:\n",
    "    missing.append(i)\n",
    "\n",
    "len(missing)"
   ]
  },
  {
   "cell_type": "code",
   "execution_count": null,
   "metadata": {},
   "outputs": [],
   "source": [
    "precision_at_k_ran(test,train,10, user_index)"
   ]
  },
  {
   "cell_type": "code",
   "execution_count": 33,
   "metadata": {},
   "outputs": [
    {
     "data": {
      "text/plain": [
       "0.05229566094853683"
      ]
     },
     "execution_count": 33,
     "metadata": {},
     "output_type": "execute_result"
    }
   ],
   "source": [
    "precision_at_k(model = model_als, test = test, user_items = train, k = 10, user_index = user_index) #regulazation = 0.01\n"
   ]
  },
  {
   "cell_type": "code",
   "execution_count": 90,
   "metadata": {},
   "outputs": [],
   "source": [
    "model_bpr = implicit.bpr.BayesianPersonalizedRanking(factors = 50, learning_rate = 0.01, regularization = 0.01, \n",
    "                                                         iterations = 100, verify_negative_samples = True)"
   ]
  },
  {
   "cell_type": "code",
   "execution_count": 91,
   "metadata": {},
   "outputs": [
    {
     "name": "stderr",
     "output_type": "stream",
     "text": [
      "100%|██████████| 100/100 [00:33<00:00,  2.86it/s, correct=92.00%, skipped=5.34%]\n"
     ]
    }
   ],
   "source": [
    "model_bpr.fit(train.T) # training time 00:33"
   ]
  },
  {
   "cell_type": "code",
   "execution_count": null,
   "metadata": {},
   "outputs": [],
   "source": [
    "bpr_seq # why so slow??"
   ]
  },
  {
   "cell_type": "code",
   "execution_count": null,
   "metadata": {},
   "outputs": [],
   "source": [
    "related = model_bpr.similar_items(4, N=10) # East African-style coconut chicken\n",
    "[related[i][0] for i in range(len(related))]\n",
    "similar_item = get_rec_title(related)\n",
    "similar_item\n",
    "recipes[recipes['title_en'].isin(similar_item)]"
   ]
  },
  {
   "cell_type": "code",
   "execution_count": null,
   "metadata": {},
   "outputs": [],
   "source": [
    "type(recipes.publishdate[0])"
   ]
  },
  {
   "cell_type": "code",
   "execution_count": 88,
   "metadata": {},
   "outputs": [
    {
     "data": {
      "text/plain": [
       "39640"
      ]
     },
     "execution_count": 88,
     "metadata": {},
     "output_type": "execute_result"
    },
    {
     "data": {
      "text/plain": [
       "3964"
      ]
     },
     "execution_count": 88,
     "metadata": {},
     "output_type": "execute_result"
    }
   ],
   "source": [
    "len(test.nonzero()[0])\n",
    "len(set(test.nonzero()[0]))"
   ]
  },
  {
   "cell_type": "code",
   "execution_count": 38,
   "metadata": {},
   "outputs": [
    {
     "name": "stderr",
     "output_type": "stream",
     "text": [
      "100%|██████████| 39648/39648 [00:00<00:00, 47160.65it/s]\n"
     ]
    },
    {
     "data": {
      "text/plain": [
       "0.05229566094853683"
      ]
     },
     "execution_count": 38,
     "metadata": {},
     "output_type": "execute_result"
    }
   ],
   "source": [
    "from implicit.evaluation import precision_at_k\n",
    "p = precision_at_k(model_als, train, test,10)\n",
    "p"
   ]
  },
  {
   "cell_type": "code",
   "execution_count": 86,
   "metadata": {},
   "outputs": [
    {
     "name": "stderr",
     "output_type": "stream",
     "text": [
      "100%|██████████| 39648/39648 [00:00<00:00, 45841.73it/s]\n"
     ]
    },
    {
     "data": {
      "text/plain": [
       "0.03796670030272452"
      ]
     },
     "execution_count": 86,
     "metadata": {},
     "output_type": "execute_result"
    }
   ],
   "source": [
    "from implicit.evaluation import precision_at_k\n",
    "bpr = precision_at_k(model_bpr, train, test, 10)\n",
    "bpr"
   ]
  },
  {
   "cell_type": "code",
   "execution_count": 40,
   "metadata": {},
   "outputs": [
    {
     "name": "stderr",
     "output_type": "stream",
     "text": [
      "100%|██████████| 39648/39648 [00:00<00:00, 47053.56it/s]\n"
     ]
    },
    {
     "data": {
      "text/plain": [
       "0.05229566094853683"
      ]
     },
     "execution_count": 40,
     "metadata": {},
     "output_type": "execute_result"
    }
   ],
   "source": [
    "from implicit.evaluation import mean_average_precision_at_k\n",
    "map_10 = precision_at_k(model_als, train, test,10)\n",
    "map_10"
   ]
  },
  {
   "cell_type": "code",
   "execution_count": 117,
   "metadata": {},
   "outputs": [],
   "source": [
    "path = '/Users/xun/Documents/Thesis/'\n",
    "train_new = pd.read_csv(path + 'interaction_data/ks-18m-cooks-v1_train_v3.csv')\n",
    "test_new = pd.read_csv(path + 'interaction_data/ks-18m-cooks-v1_test_v3.csv')\n"
   ]
  },
  {
   "cell_type": "code",
   "execution_count": 118,
   "metadata": {},
   "outputs": [],
   "source": [
    "I = train_new.uid.values\n",
    "J = train_new.rid.values # turn mid to idx\n",
    "V = np.ones(I.shape[0])\n",
    "train_new_coo = sparse.coo_matrix((V, (I, J)), dtype=np.float64)\n",
    "train_new_csr = train_new_coo.tocsr()\n",
    "\n",
    "I_t = test_new.uid.values\n",
    "J_t = test_new.rid.values # turn mid to idx\n",
    "V_t = np.ones(I_t.shape[0])\n",
    "test_new_coo = sparse.coo_matrix((V_t, (I_t, J_t)), dtype=np.float64)\n",
    "test_new_csr = test_new_coo.tocsr()"
   ]
  },
  {
   "cell_type": "code",
   "execution_count": 119,
   "metadata": {},
   "outputs": [
    {
     "name": "stderr",
     "output_type": "stream",
     "text": [
      "100%|██████████| 100.0/100 [02:00<00:00,  1.08s/it]\n"
     ]
    }
   ],
   "source": [
    "model_als = implicit.als.AlternatingLeastSquares(factors = 50, regularization = 0.01, \n",
    "                                                         iterations = 100)\n",
    "\n",
    "# train is user_items sparse matrix, model.fit(item_users)\n",
    "# training time cooks_18m : 02:09\n",
    "model_als.fit(train_new_csr.T)"
   ]
  },
  {
   "cell_type": "code",
   "execution_count": 120,
   "metadata": {},
   "outputs": [
    {
     "name": "stderr",
     "output_type": "stream",
     "text": [
      "100%|██████████| 39563/39563 [00:00<00:00, 105995.71it/s]\n"
     ]
    },
    {
     "data": {
      "text/plain": [
       "0.05396458814472671"
      ]
     },
     "execution_count": 120,
     "metadata": {},
     "output_type": "execute_result"
    }
   ],
   "source": [
    "p = precision_at_k(model_als, train_new_csr, test_new_csr,10)\n",
    "p"
   ]
  },
  {
   "cell_type": "code",
   "execution_count": 121,
   "metadata": {},
   "outputs": [
    {
     "name": "stderr",
     "output_type": "stream",
     "text": [
      "100%|██████████| 100/100 [00:33<00:00,  3.03it/s, correct=95.09%, skipped=5.61%]\n"
     ]
    }
   ],
   "source": [
    "model_bpr.fit(train_new_csr.T)"
   ]
  },
  {
   "cell_type": "code",
   "execution_count": 123,
   "metadata": {},
   "outputs": [
    {
     "name": "stderr",
     "output_type": "stream",
     "text": [
      "100%|██████████| 39563/39563 [00:00<00:00, 122774.91it/s]\n"
     ]
    },
    {
     "data": {
      "text/plain": [
       "0.06674364896073903"
      ]
     },
     "execution_count": 123,
     "metadata": {},
     "output_type": "execute_result"
    }
   ],
   "source": [
    "p_bpr = precision_at_k(model_bpr, train_new_csr, test_new_csr,10)\n",
    "p_bpr"
   ]
  },
  {
   "cell_type": "code",
   "execution_count": null,
   "metadata": {},
   "outputs": [],
   "source": [
    "del train_test_split"
   ]
  },
  {
   "cell_type": "code",
   "execution_count": 101,
   "metadata": {},
   "outputs": [],
   "source": [
    "from implicit.evaluation import train_test_split as train_test_split_implicit\n",
    "\n",
    "train, test = train_test_split_implicit(likes, 0.9)"
   ]
  },
  {
   "cell_type": "code",
   "execution_count": 102,
   "metadata": {},
   "outputs": [
    {
     "data": {
      "text/plain": [
       "(39648, 1815)"
      ]
     },
     "execution_count": 102,
     "metadata": {},
     "output_type": "execute_result"
    },
    {
     "data": {
      "text/plain": [
       "(39648, 1815)"
      ]
     },
     "execution_count": 102,
     "metadata": {},
     "output_type": "execute_result"
    }
   ],
   "source": [
    "train.shape\n",
    "test.shape"
   ]
  },
  {
   "cell_type": "code",
   "execution_count": 109,
   "metadata": {},
   "outputs": [
    {
     "data": {
      "text/plain": [
       "39648"
      ]
     },
     "execution_count": 109,
     "metadata": {},
     "output_type": "execute_result"
    },
    {
     "data": {
      "text/plain": [
       "1743"
      ]
     },
     "execution_count": 109,
     "metadata": {},
     "output_type": "execute_result"
    }
   ],
   "source": [
    "len(np.unique(train.nonzero()[0]))\n",
    "len(np.unique(train.nonzero()[1]))"
   ]
  },
  {
   "cell_type": "code",
   "execution_count": 110,
   "metadata": {},
   "outputs": [
    {
     "data": {
      "text/plain": [
       "32686"
      ]
     },
     "execution_count": 110,
     "metadata": {},
     "output_type": "execute_result"
    },
    {
     "data": {
      "text/plain": [
       "1741"
      ]
     },
     "execution_count": 110,
     "metadata": {},
     "output_type": "execute_result"
    }
   ],
   "source": [
    "len(np.unique(test.nonzero()[0]))\n",
    "len(np.unique(test.nonzero()[1]))"
   ]
  }
 ],
 "metadata": {
  "kernelspec": {
   "display_name": "Python 3",
   "language": "python",
   "name": "python3"
  },
  "language_info": {
   "codemirror_mode": {
    "name": "ipython",
    "version": 3
   },
   "file_extension": ".py",
   "mimetype": "text/x-python",
   "name": "python",
   "nbconvert_exporter": "python",
   "pygments_lexer": "ipython3",
   "version": "3.7.2"
  }
 },
 "nbformat": 4,
 "nbformat_minor": 2
}
