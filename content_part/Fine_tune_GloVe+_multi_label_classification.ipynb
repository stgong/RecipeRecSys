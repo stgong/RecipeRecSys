{
  "nbformat": 4,
  "nbformat_minor": 0,
  "metadata": {
    "kernelspec": {
      "name": "python3",
      "display_name": "Python 3"
    },
    "language_info": {
      "codemirror_mode": {
        "name": "ipython",
        "version": 3
      },
      "file_extension": ".py",
      "mimetype": "text/x-python",
      "name": "python",
      "nbconvert_exporter": "python",
      "pygments_lexer": "ipython3",
      "version": "3.7.2"
    },
    "colab": {
      "name": "Fine-tune GloVe+ multi-label classification.ipynb",
      "version": "0.3.2",
      "provenance": []
    },
    "accelerator": "GPU"
  },
  "cells": [
    {
      "cell_type": "code",
      "metadata": {
        "id": "Ycl5pinv_myM",
        "colab_type": "code",
        "colab": {}
      },
      "source": [
        "import pandas as pd\n",
        "import numpy as np\n",
        "import string\n",
        "\n",
        "\n",
        "%matplotlib inline\n",
        "import matplotlib.pyplot as plt\n",
        "plt.rcParams['figure.figsize'] = (20,20)\n",
        "\n",
        "from IPython.display import SVG\n",
        "from IPython.core.interactiveshell import InteractiveShell\n",
        "InteractiveShell.ast_node_interactivity = \"all\"\n"
      ],
      "execution_count": 0,
      "outputs": []
    },
    {
      "cell_type": "code",
      "metadata": {
        "id": "szDEsApk_myZ",
        "colab_type": "code",
        "colab": {}
      },
      "source": [
        "import spacy\n",
        "# !python3 -m spacy download en_core_web_md\n",
        "\n",
        "# !python3 -m spacy download en_core_web_md\n",
        "\n",
        "# to load spacy need to restart runtime!!\n",
        "nlp  = spacy.load('en_core_web_md')\n"
      ],
      "execution_count": 0,
      "outputs": []
    },
    {
      "cell_type": "code",
      "metadata": {
        "id": "GyEVEX9G_yzC",
        "colab_type": "code",
        "colab": {}
      },
      "source": [
        "# from google.colab import drive\n",
        "# drive.mount('/content/drive')\n",
        "path = '/content/drive/My Drive/Thesis_share/'"
      ],
      "execution_count": 0,
      "outputs": []
    },
    {
      "cell_type": "code",
      "metadata": {
        "scrolled": false,
        "id": "Q0_REx8-_myQ",
        "colab_type": "code",
        "colab": {
          "base_uri": "https://localhost:8080/",
          "height": 34
        },
        "outputId": "56abd448-6e49-4a9a-caa4-db67a6b91daf"
      },
      "source": [
        "recipe_all = pd.read_csv(path + 'recipe_data/recipe_data_processed.csv')\n",
        "\n",
        "recipe_all.shape # (2060, 15)"
      ],
      "execution_count": 81,
      "outputs": [
        {
          "output_type": "execute_result",
          "data": {
            "text/plain": [
              "(1815, 12)"
            ]
          },
          "metadata": {
            "tags": []
          },
          "execution_count": 81
        }
      ]
    },
    {
      "cell_type": "code",
      "metadata": {
        "id": "PnsRDgWr_myT",
        "colab_type": "code",
        "colab": {
          "base_uri": "https://localhost:8080/",
          "height": 819
        },
        "outputId": "99f46517-1280-4e29-9d07-7655bff36e7b"
      },
      "source": [
        "recipe_all.head()\n",
        "recipe_all.head().applymap(type)"
      ],
      "execution_count": 82,
      "outputs": [
        {
          "output_type": "execute_result",
          "data": {
            "text/html": [
              "<div>\n",
              "<style scoped>\n",
              "    .dataframe tbody tr th:only-of-type {\n",
              "        vertical-align: middle;\n",
              "    }\n",
              "\n",
              "    .dataframe tbody tr th {\n",
              "        vertical-align: top;\n",
              "    }\n",
              "\n",
              "    .dataframe thead th {\n",
              "        text-align: right;\n",
              "    }\n",
              "</style>\n",
              "<table border=\"1\" class=\"dataframe\">\n",
              "  <thead>\n",
              "    <tr style=\"text-align: right;\">\n",
              "      <th></th>\n",
              "      <th>publishdate</th>\n",
              "      <th>content_id</th>\n",
              "      <th>title_en</th>\n",
              "      <th>difficulty</th>\n",
              "      <th>mealtype</th>\n",
              "      <th>diettype</th>\n",
              "      <th>cuisine</th>\n",
              "      <th>cooking_method</th>\n",
              "      <th>steps</th>\n",
              "      <th>ingredients</th>\n",
              "      <th>#ingredients</th>\n",
              "      <th>steps_length</th>\n",
              "    </tr>\n",
              "  </thead>\n",
              "  <tbody>\n",
              "    <tr>\n",
              "      <th>0</th>\n",
              "      <td>2017-02-02</td>\n",
              "      <td>R574</td>\n",
              "      <td>Moroccan-inspired chickpea stew</td>\n",
              "      <td>easy</td>\n",
              "      <td>main</td>\n",
              "      <td>vegetarian</td>\n",
              "      <td>african</td>\n",
              "      <td>stewing</td>\n",
              "      <td>Add chickpeas to stew and let simmer for appro...</td>\n",
              "      <td>['apple cider vinegar (optional)', 'black pepp...</td>\n",
              "      <td>26</td>\n",
              "      <td>188</td>\n",
              "    </tr>\n",
              "    <tr>\n",
              "      <th>1</th>\n",
              "      <td>2017-11-05</td>\n",
              "      <td>R943</td>\n",
              "      <td>Lamb and quince tagine</td>\n",
              "      <td>medium</td>\n",
              "      <td>main</td>\n",
              "      <td>non-vegetarian</td>\n",
              "      <td>african</td>\n",
              "      <td>NaN</td>\n",
              "      <td>Heat olive oil and butter in a tagine or large...</td>\n",
              "      <td>['butter', 'cilantro for garnishing', 'ground ...</td>\n",
              "      <td>17</td>\n",
              "      <td>87</td>\n",
              "    </tr>\n",
              "    <tr>\n",
              "      <th>2</th>\n",
              "      <td>2017-10-16</td>\n",
              "      <td>C27</td>\n",
              "      <td>Fudgy cardamom banana bread</td>\n",
              "      <td>medium</td>\n",
              "      <td>dessert</td>\n",
              "      <td>vegetarian</td>\n",
              "      <td>african</td>\n",
              "      <td>baking,frying,glazing,oven</td>\n",
              "      <td>Bake in pre-heated oven at 170°C/340°F for app...</td>\n",
              "      <td>['baking soda', 'bananas (overripe)', 'butter ...</td>\n",
              "      <td>16</td>\n",
              "      <td>176</td>\n",
              "    </tr>\n",
              "    <tr>\n",
              "      <th>3</th>\n",
              "      <td>2017-04-29</td>\n",
              "      <td>R702</td>\n",
              "      <td>Braised chicken with couscous</td>\n",
              "      <td>medium</td>\n",
              "      <td>main</td>\n",
              "      <td>non-vegetarian</td>\n",
              "      <td>african</td>\n",
              "      <td>marinating,roasting,slow-cooking,steaming</td>\n",
              "      <td>Deglaze with some of the chicken stock. In the...</td>\n",
              "      <td>['chicken legs', 'chicken stock (divided)', 'c...</td>\n",
              "      <td>18</td>\n",
              "      <td>158</td>\n",
              "    </tr>\n",
              "    <tr>\n",
              "      <th>4</th>\n",
              "      <td>2018-07-24</td>\n",
              "      <td>R1295</td>\n",
              "      <td>East African-style coconut chicken</td>\n",
              "      <td>medium</td>\n",
              "      <td>main</td>\n",
              "      <td>non-vegetarian</td>\n",
              "      <td>african</td>\n",
              "      <td>sauteing</td>\n",
              "      <td>Add the onions, garlic, and ginger to the pot ...</td>\n",
              "      <td>['canned crushed tomatoes', 'chicken legs', 'c...</td>\n",
              "      <td>18</td>\n",
              "      <td>220</td>\n",
              "    </tr>\n",
              "  </tbody>\n",
              "</table>\n",
              "</div>"
            ],
            "text/plain": [
              "  publishdate content_id  ... #ingredients steps_length\n",
              "0  2017-02-02       R574  ...           26          188\n",
              "1  2017-11-05       R943  ...           17           87\n",
              "2  2017-10-16        C27  ...           16          176\n",
              "3  2017-04-29       R702  ...           18          158\n",
              "4  2018-07-24      R1295  ...           18          220\n",
              "\n",
              "[5 rows x 12 columns]"
            ]
          },
          "metadata": {
            "tags": []
          },
          "execution_count": 82
        },
        {
          "output_type": "execute_result",
          "data": {
            "text/html": [
              "<div>\n",
              "<style scoped>\n",
              "    .dataframe tbody tr th:only-of-type {\n",
              "        vertical-align: middle;\n",
              "    }\n",
              "\n",
              "    .dataframe tbody tr th {\n",
              "        vertical-align: top;\n",
              "    }\n",
              "\n",
              "    .dataframe thead th {\n",
              "        text-align: right;\n",
              "    }\n",
              "</style>\n",
              "<table border=\"1\" class=\"dataframe\">\n",
              "  <thead>\n",
              "    <tr style=\"text-align: right;\">\n",
              "      <th></th>\n",
              "      <th>publishdate</th>\n",
              "      <th>content_id</th>\n",
              "      <th>title_en</th>\n",
              "      <th>difficulty</th>\n",
              "      <th>mealtype</th>\n",
              "      <th>diettype</th>\n",
              "      <th>cuisine</th>\n",
              "      <th>cooking_method</th>\n",
              "      <th>steps</th>\n",
              "      <th>ingredients</th>\n",
              "      <th>#ingredients</th>\n",
              "      <th>steps_length</th>\n",
              "    </tr>\n",
              "  </thead>\n",
              "  <tbody>\n",
              "    <tr>\n",
              "      <th>0</th>\n",
              "      <td>&lt;class 'str'&gt;</td>\n",
              "      <td>&lt;class 'str'&gt;</td>\n",
              "      <td>&lt;class 'str'&gt;</td>\n",
              "      <td>&lt;class 'str'&gt;</td>\n",
              "      <td>&lt;class 'str'&gt;</td>\n",
              "      <td>&lt;class 'str'&gt;</td>\n",
              "      <td>&lt;class 'str'&gt;</td>\n",
              "      <td>&lt;class 'str'&gt;</td>\n",
              "      <td>&lt;class 'str'&gt;</td>\n",
              "      <td>&lt;class 'str'&gt;</td>\n",
              "      <td>&lt;class 'int'&gt;</td>\n",
              "      <td>&lt;class 'int'&gt;</td>\n",
              "    </tr>\n",
              "    <tr>\n",
              "      <th>1</th>\n",
              "      <td>&lt;class 'str'&gt;</td>\n",
              "      <td>&lt;class 'str'&gt;</td>\n",
              "      <td>&lt;class 'str'&gt;</td>\n",
              "      <td>&lt;class 'str'&gt;</td>\n",
              "      <td>&lt;class 'str'&gt;</td>\n",
              "      <td>&lt;class 'str'&gt;</td>\n",
              "      <td>&lt;class 'str'&gt;</td>\n",
              "      <td>&lt;class 'float'&gt;</td>\n",
              "      <td>&lt;class 'str'&gt;</td>\n",
              "      <td>&lt;class 'str'&gt;</td>\n",
              "      <td>&lt;class 'int'&gt;</td>\n",
              "      <td>&lt;class 'int'&gt;</td>\n",
              "    </tr>\n",
              "    <tr>\n",
              "      <th>2</th>\n",
              "      <td>&lt;class 'str'&gt;</td>\n",
              "      <td>&lt;class 'str'&gt;</td>\n",
              "      <td>&lt;class 'str'&gt;</td>\n",
              "      <td>&lt;class 'str'&gt;</td>\n",
              "      <td>&lt;class 'str'&gt;</td>\n",
              "      <td>&lt;class 'str'&gt;</td>\n",
              "      <td>&lt;class 'str'&gt;</td>\n",
              "      <td>&lt;class 'str'&gt;</td>\n",
              "      <td>&lt;class 'str'&gt;</td>\n",
              "      <td>&lt;class 'str'&gt;</td>\n",
              "      <td>&lt;class 'int'&gt;</td>\n",
              "      <td>&lt;class 'int'&gt;</td>\n",
              "    </tr>\n",
              "    <tr>\n",
              "      <th>3</th>\n",
              "      <td>&lt;class 'str'&gt;</td>\n",
              "      <td>&lt;class 'str'&gt;</td>\n",
              "      <td>&lt;class 'str'&gt;</td>\n",
              "      <td>&lt;class 'str'&gt;</td>\n",
              "      <td>&lt;class 'str'&gt;</td>\n",
              "      <td>&lt;class 'str'&gt;</td>\n",
              "      <td>&lt;class 'str'&gt;</td>\n",
              "      <td>&lt;class 'str'&gt;</td>\n",
              "      <td>&lt;class 'str'&gt;</td>\n",
              "      <td>&lt;class 'str'&gt;</td>\n",
              "      <td>&lt;class 'int'&gt;</td>\n",
              "      <td>&lt;class 'int'&gt;</td>\n",
              "    </tr>\n",
              "    <tr>\n",
              "      <th>4</th>\n",
              "      <td>&lt;class 'str'&gt;</td>\n",
              "      <td>&lt;class 'str'&gt;</td>\n",
              "      <td>&lt;class 'str'&gt;</td>\n",
              "      <td>&lt;class 'str'&gt;</td>\n",
              "      <td>&lt;class 'str'&gt;</td>\n",
              "      <td>&lt;class 'str'&gt;</td>\n",
              "      <td>&lt;class 'str'&gt;</td>\n",
              "      <td>&lt;class 'str'&gt;</td>\n",
              "      <td>&lt;class 'str'&gt;</td>\n",
              "      <td>&lt;class 'str'&gt;</td>\n",
              "      <td>&lt;class 'int'&gt;</td>\n",
              "      <td>&lt;class 'int'&gt;</td>\n",
              "    </tr>\n",
              "  </tbody>\n",
              "</table>\n",
              "</div>"
            ],
            "text/plain": [
              "     publishdate     content_id  ...   #ingredients   steps_length\n",
              "0  <class 'str'>  <class 'str'>  ...  <class 'int'>  <class 'int'>\n",
              "1  <class 'str'>  <class 'str'>  ...  <class 'int'>  <class 'int'>\n",
              "2  <class 'str'>  <class 'str'>  ...  <class 'int'>  <class 'int'>\n",
              "3  <class 'str'>  <class 'str'>  ...  <class 'int'>  <class 'int'>\n",
              "4  <class 'str'>  <class 'str'>  ...  <class 'int'>  <class 'int'>\n",
              "\n",
              "[5 rows x 12 columns]"
            ]
          },
          "metadata": {
            "tags": []
          },
          "execution_count": 82
        }
      ]
    },
    {
      "cell_type": "code",
      "metadata": {
        "id": "ak1F4NGL_myV",
        "colab_type": "code",
        "colab": {}
      },
      "source": [
        "recipe_text = recipe_all.iloc[:,1:9]"
      ],
      "execution_count": 0,
      "outputs": []
    },
    {
      "cell_type": "code",
      "metadata": {
        "id": "yFv7l3-4_myb",
        "colab_type": "code",
        "colab": {}
      },
      "source": [
        "# Clean the text\n",
        "# With spaCy loaded, the documents can be lemmatised.\n",
        "\n",
        "def keep_token(t):\n",
        "    return (t.is_alpha and \n",
        "            not (t.is_space or t.is_punct or \n",
        "                 t.is_stop or t.like_num))\n",
        "\n",
        "def lemmatize_doc(doc):\n",
        "#     lower_t =  [t.lower_ for t in doc if keep_token(t)]\n",
        "    return [ t.lemma_ for t in doc if keep_token(t)]\n"
      ],
      "execution_count": 0,
      "outputs": []
    },
    {
      "cell_type": "code",
      "metadata": {
        "id": "N2TZd8zM_myc",
        "colab_type": "code",
        "colab": {}
      },
      "source": [
        "# the step text now convert to a list of word\n",
        "recipe_text['steps'] = recipe_text['steps'].apply(lambda x: lemmatize_doc(nlp(x.lower())))"
      ],
      "execution_count": 0,
      "outputs": []
    },
    {
      "cell_type": "code",
      "metadata": {
        "collapsed": true,
        "id": "NknDj1T3_mye",
        "colab_type": "code",
        "colab": {
          "base_uri": "https://localhost:8080/",
          "height": 1000
        },
        "outputId": "6e6e906c-e4c8-4e46-f2dd-c04d7d6bc2ba"
      },
      "source": [
        "recipe_all['steps'][0]\n",
        "# nlp(recipe_all['steps'][0])\n",
        "recipe_text['steps'][0]"
      ],
      "execution_count": 86,
      "outputs": [
        {
          "output_type": "execute_result",
          "data": {
            "text/plain": [
              "'Add chickpeas to stew and let simmer for approx. 10 min. Before serving, add kale and salt to taste. Serve with fresh herbs and lemon juice. Enjoy! In a large pot, heat the olive oil over medium heat. Add onion and garlic and sear quickly. Lower heat, add all of the spices, and sauté for approx. 2 min. Add sweet potatoes, carrots, bell pepper and fennel and sauté for approx. 2 more min. Meanwhile, prepare quinoa according to package instructions, boiling it with the cider vinegar and some of the lemon juice. When little white rings begin to form around the grains, drain any excess water and set quinoa aside. Peel and finely dice onion and garlic. Peel carrots and sweet potatoes and cut into bite-size pieces. Deseed and dice bell pepper. Remove leaves and core from fennel and chop rest into small pieces. Wash kale, remove leaves from stems, and cut or tear into bite-size pieces. Stir in water, vegetable stock, and tomatoes and bring to a boil. Reduce heat and let simmer for approx. 15 – 20 min. until sweet potatoes are softened, but still firm.'"
            ]
          },
          "metadata": {
            "tags": []
          },
          "execution_count": 86
        },
        {
          "output_type": "execute_result",
          "data": {
            "text/plain": [
              "['add',\n",
              " 'chickpea',\n",
              " 'stew',\n",
              " 'let',\n",
              " 'simmer',\n",
              " 'approx',\n",
              " 'min',\n",
              " 'serve',\n",
              " 'add',\n",
              " 'kale',\n",
              " 'salt',\n",
              " 'taste',\n",
              " 'serve',\n",
              " 'fresh',\n",
              " 'herb',\n",
              " 'lemon',\n",
              " 'juice',\n",
              " 'enjoy',\n",
              " 'large',\n",
              " 'pot',\n",
              " 'heat',\n",
              " 'olive',\n",
              " 'oil',\n",
              " 'medium',\n",
              " 'heat',\n",
              " 'add',\n",
              " 'onion',\n",
              " 'garlic',\n",
              " 'sear',\n",
              " 'quickly',\n",
              " 'low',\n",
              " 'heat',\n",
              " 'add',\n",
              " 'spice',\n",
              " 'sauté',\n",
              " 'approx',\n",
              " 'min',\n",
              " 'add',\n",
              " 'sweet',\n",
              " 'potato',\n",
              " 'carrot',\n",
              " 'bell',\n",
              " 'pepper',\n",
              " 'fennel',\n",
              " 'sauté',\n",
              " 'approx',\n",
              " 'min',\n",
              " 'prepare',\n",
              " 'quinoa',\n",
              " 'accord',\n",
              " 'package',\n",
              " 'instruction',\n",
              " 'boil',\n",
              " 'cider',\n",
              " 'vinegar',\n",
              " 'lemon',\n",
              " 'juice',\n",
              " 'little',\n",
              " 'white',\n",
              " 'ring',\n",
              " 'begin',\n",
              " 'form',\n",
              " 'grain',\n",
              " 'drain',\n",
              " 'excess',\n",
              " 'water',\n",
              " 'set',\n",
              " 'quinoa',\n",
              " 'aside',\n",
              " 'peel',\n",
              " 'finely',\n",
              " 'dice',\n",
              " 'onion',\n",
              " 'garlic',\n",
              " 'peel',\n",
              " 'carrot',\n",
              " 'sweet',\n",
              " 'potato',\n",
              " 'cut',\n",
              " 'bite',\n",
              " 'size',\n",
              " 'piece',\n",
              " 'deseed',\n",
              " 'dice',\n",
              " 'bell',\n",
              " 'pepper',\n",
              " 'remove',\n",
              " 'leave',\n",
              " 'core',\n",
              " 'fennel',\n",
              " 'chop',\n",
              " 'rest',\n",
              " 'small',\n",
              " 'piece',\n",
              " 'wash',\n",
              " 'kale',\n",
              " 'remove',\n",
              " 'leave',\n",
              " 'stem',\n",
              " 'cut',\n",
              " 'tear',\n",
              " 'bite',\n",
              " 'size',\n",
              " 'piece',\n",
              " 'stir',\n",
              " 'water',\n",
              " 'vegetable',\n",
              " 'stock',\n",
              " 'tomato',\n",
              " 'bring',\n",
              " 'boil',\n",
              " 'reduce',\n",
              " 'heat',\n",
              " 'let',\n",
              " 'simmer',\n",
              " 'approx',\n",
              " 'min',\n",
              " 'sweet',\n",
              " 'potato',\n",
              " 'soften',\n",
              " 'firm']"
            ]
          },
          "metadata": {
            "tags": []
          },
          "execution_count": 86
        }
      ]
    },
    {
      "cell_type": "code",
      "metadata": {
        "colab_type": "code",
        "outputId": "27a1536e-2d25-4330-f63a-101837414745",
        "id": "KLqqHLzkCYzG",
        "colab": {
          "base_uri": "https://localhost:8080/",
          "height": 233
        }
      },
      "source": [
        "with pd.option_context('display.max_rows', 10, 'display.max_columns', 5):\n",
        "# pd.set_option('display.max_columns', 13)\n",
        "    recipe_text.head()"
      ],
      "execution_count": 87,
      "outputs": [
        {
          "output_type": "execute_result",
          "data": {
            "text/html": [
              "<div>\n",
              "<style scoped>\n",
              "    .dataframe tbody tr th:only-of-type {\n",
              "        vertical-align: middle;\n",
              "    }\n",
              "\n",
              "    .dataframe tbody tr th {\n",
              "        vertical-align: top;\n",
              "    }\n",
              "\n",
              "    .dataframe thead th {\n",
              "        text-align: right;\n",
              "    }\n",
              "</style>\n",
              "<table border=\"1\" class=\"dataframe\">\n",
              "  <thead>\n",
              "    <tr style=\"text-align: right;\">\n",
              "      <th></th>\n",
              "      <th>content_id</th>\n",
              "      <th>title_en</th>\n",
              "      <th>...</th>\n",
              "      <th>cooking_method</th>\n",
              "      <th>steps</th>\n",
              "    </tr>\n",
              "  </thead>\n",
              "  <tbody>\n",
              "    <tr>\n",
              "      <th>0</th>\n",
              "      <td>R574</td>\n",
              "      <td>Moroccan-inspired chickpea stew</td>\n",
              "      <td>...</td>\n",
              "      <td>stewing</td>\n",
              "      <td>[add, chickpea, stew, let, simmer, approx, min...</td>\n",
              "    </tr>\n",
              "    <tr>\n",
              "      <th>1</th>\n",
              "      <td>R943</td>\n",
              "      <td>Lamb and quince tagine</td>\n",
              "      <td>...</td>\n",
              "      <td>NaN</td>\n",
              "      <td>[heat, olive, oil, butter, tagine, large, sauc...</td>\n",
              "    </tr>\n",
              "    <tr>\n",
              "      <th>2</th>\n",
              "      <td>C27</td>\n",
              "      <td>Fudgy cardamom banana bread</td>\n",
              "      <td>...</td>\n",
              "      <td>baking,frying,glazing,oven</td>\n",
              "      <td>[bake, pre, heated, oven, f, approx, hr, inser...</td>\n",
              "    </tr>\n",
              "    <tr>\n",
              "      <th>3</th>\n",
              "      <td>R702</td>\n",
              "      <td>Braised chicken with couscous</td>\n",
              "      <td>...</td>\n",
              "      <td>marinating,roasting,slow-cooking,steaming</td>\n",
              "      <td>[deglaze, chicken, stock, meantime, wash, bell...</td>\n",
              "    </tr>\n",
              "    <tr>\n",
              "      <th>4</th>\n",
              "      <td>R1295</td>\n",
              "      <td>East African-style coconut chicken</td>\n",
              "      <td>...</td>\n",
              "      <td>sauteing</td>\n",
              "      <td>[add, onion, garlic, ginger, pot, sauté, appro...</td>\n",
              "    </tr>\n",
              "  </tbody>\n",
              "</table>\n",
              "<p>5 rows × 8 columns</p>\n",
              "</div>"
            ],
            "text/plain": [
              "  content_id                            title_en  ...  \\\n",
              "0       R574     Moroccan-inspired chickpea stew  ...   \n",
              "1       R943              Lamb and quince tagine  ...   \n",
              "2        C27         Fudgy cardamom banana bread  ...   \n",
              "3       R702       Braised chicken with couscous  ...   \n",
              "4      R1295  East African-style coconut chicken  ...   \n",
              "\n",
              "                              cooking_method  \\\n",
              "0                                    stewing   \n",
              "1                                        NaN   \n",
              "2                 baking,frying,glazing,oven   \n",
              "3  marinating,roasting,slow-cooking,steaming   \n",
              "4                                   sauteing   \n",
              "\n",
              "                                               steps  \n",
              "0  [add, chickpea, stew, let, simmer, approx, min...  \n",
              "1  [heat, olive, oil, butter, tagine, large, sauc...  \n",
              "2  [bake, pre, heated, oven, f, approx, hr, inser...  \n",
              "3  [deglaze, chicken, stock, meantime, wash, bell...  \n",
              "4  [add, onion, garlic, ginger, pot, sauté, appro...  \n",
              "\n",
              "[5 rows x 8 columns]"
            ]
          },
          "metadata": {
            "tags": []
          },
          "execution_count": 87
        }
      ]
    },
    {
      "cell_type": "code",
      "metadata": {
        "collapsed": true,
        "id": "ZAgPG5dp_myi",
        "colab_type": "code",
        "colab": {}
      },
      "source": [
        "# recipe_text.head().applymap(type)"
      ],
      "execution_count": 0,
      "outputs": []
    },
    {
      "cell_type": "code",
      "metadata": {
        "id": "QaHtyupD_myk",
        "colab_type": "code",
        "colab": {
          "base_uri": "https://localhost:8080/",
          "height": 51
        },
        "outputId": "0c9a45ab-e41b-4e8f-a015-2f34c93d61ca"
      },
      "source": [
        "# with tqdm we can get the frequency of each word in the whole recipe corpus,\n",
        "# we do this in order to set the parameters for using the Keras inbuilt Tokenizer class\n",
        "\n",
        "from tqdm import tqdm\n",
        "def build_vocab(sentences, verbose =  True):\n",
        "    \"\"\"\n",
        "    :param sentences: list of list of words\n",
        "    :return: dictionary of words and their count\n",
        "    \"\"\"\n",
        "    vocab = {}\n",
        "    for sentence in tqdm(sentences, disable = (not verbose)):\n",
        "        for word in sentence:\n",
        "            try:\n",
        "                vocab[word] += 1\n",
        "            except KeyError:\n",
        "                vocab[word] = 1\n",
        "    return vocab\n",
        "\n",
        "vocab = build_vocab(recipe_text.steps.tolist())\n",
        "import operator\n",
        "sorted_vocab = sorted(vocab.items(), key=operator.itemgetter(1), reverse=True)\n",
        "\n",
        "len(sorted_vocab)\n",
        "sorted_vocab[:3]\n",
        "sorted_vocab[-3:]"
      ],
      "execution_count": 89,
      "outputs": [
        {
          "output_type": "stream",
          "text": [
            "100%|██████████| 1815/1815 [00:00<00:00, 58207.01it/s]\n"
          ],
          "name": "stderr"
        },
        {
          "output_type": "execute_result",
          "data": {
            "text/plain": [
              "3596"
            ]
          },
          "metadata": {
            "tags": []
          },
          "execution_count": 89
        },
        {
          "output_type": "execute_result",
          "data": {
            "text/plain": [
              "[('add', 4831), ('approx', 3805), ('min', 3579)]"
            ]
          },
          "metadata": {
            "tags": []
          },
          "execution_count": 89
        },
        {
          "output_type": "execute_result",
          "data": {
            "text/plain": [
              "[('scum', 1), ('infuser', 1), ('stewing', 1)]"
            ]
          },
          "metadata": {
            "tags": []
          },
          "execution_count": 89
        }
      ]
    },
    {
      "cell_type": "code",
      "metadata": {
        "id": "qAr6ZlfG_myt",
        "colab_type": "code",
        "colab": {}
      },
      "source": [
        "from tqdm import tqdm\n",
        "from numpy import asarray\n",
        "from numpy import zeros\n",
        "from keras.models import Sequential\n",
        "from keras.preprocessing.text import Tokenizer\n",
        "from keras.preprocessing.sequence import pad_sequences\n",
        "from keras.layers import Dense, Flatten, Input, LSTM, Embedding, Dropout, Activation, CuDNNGRU, Conv1D, SpatialDropout1D\n",
        "from keras.layers import Bidirectional, GlobalMaxPool1D\n",
        "from keras.models import Model\n",
        "from keras import initializers, regularizers, constraints, optimizers, layers, callbacks\n",
        "from keras.callbacks import EarlyStopping"
      ],
      "execution_count": 0,
      "outputs": []
    },
    {
      "cell_type": "code",
      "metadata": {
        "id": "qzK4-QnAV6qu",
        "colab_type": "code",
        "colab": {
          "base_uri": "https://localhost:8080/",
          "height": 54
        },
        "outputId": "c5bfb933-a29d-4ae9-b00a-95eaeaa55670"
      },
      "source": [
        "# now we convert the step text as list back to text in order to use Tokeniser()\n",
        "def list_to_text(list):\n",
        "    text = \" \".join(str(x) for x in list)\n",
        "    return text\n",
        "recipe_text['steps_text'] = recipe_text['steps'].apply(list_to_text)\n",
        "length = recipe_text['steps'].apply(len)\n",
        "length.max()\n",
        "recipe_text.steps_text[0]"
      ],
      "execution_count": 91,
      "outputs": [
        {
          "output_type": "execute_result",
          "data": {
            "text/plain": [
              "395"
            ]
          },
          "metadata": {
            "tags": []
          },
          "execution_count": 91
        },
        {
          "output_type": "execute_result",
          "data": {
            "text/plain": [
              "'add chickpea stew let simmer approx min serve add kale salt taste serve fresh herb lemon juice enjoy large pot heat olive oil medium heat add onion garlic sear quickly low heat add spice sauté approx min add sweet potato carrot bell pepper fennel sauté approx min prepare quinoa accord package instruction boil cider vinegar lemon juice little white ring begin form grain drain excess water set quinoa aside peel finely dice onion garlic peel carrot sweet potato cut bite size piece deseed dice bell pepper remove leave core fennel chop rest small piece wash kale remove leave stem cut tear bite size piece stir water vegetable stock tomato bring boil reduce heat let simmer approx min sweet potato soften firm'"
            ]
          },
          "metadata": {
            "tags": []
          },
          "execution_count": 91
        }
      ]
    },
    {
      "cell_type": "code",
      "metadata": {
        "id": "wINRifr0_myv",
        "colab_type": "code",
        "colab": {
          "base_uri": "https://localhost:8080/",
          "height": 34
        },
        "outputId": "72f28104-f8a7-40ae-9e37-b6c32f502448"
      },
      "source": [
        "docs = recipe_text['steps_text'].values\n",
        "\n",
        "tokenizer = Tokenizer()\n",
        "tokenizer.fit_on_texts(docs)\n",
        "# word - encode_id dictionary starting from 1\n",
        "word_index = tokenizer.word_index \n",
        "print('Found %s unique tokens.' % len(word_index))\n"
      ],
      "execution_count": 92,
      "outputs": [
        {
          "output_type": "stream",
          "text": [
            "Found 3596 unique tokens.\n"
          ],
          "name": "stdout"
        }
      ]
    },
    {
      "cell_type": "code",
      "metadata": {
        "id": "2w1uUhrK_myx",
        "colab_type": "code",
        "colab": {
          "base_uri": "https://localhost:8080/",
          "height": 34
        },
        "outputId": "1131ef24-6e2c-4784-f32d-b176c7661284"
      },
      "source": [
        "input_text = tokenizer.texts_to_sequences(docs)\n",
        "\n",
        "# pad documents to a max length of max recipe step text(395 word)\n",
        "input_text = pad_sequences(input_text)\n",
        "input_text.shape\n",
        "# input_text[0]"
      ],
      "execution_count": 93,
      "outputs": [
        {
          "output_type": "execute_result",
          "data": {
            "text/plain": [
              "(1815, 395)"
            ]
          },
          "metadata": {
            "tags": []
          },
          "execution_count": 93
        }
      ]
    },
    {
      "cell_type": "code",
      "metadata": {
        "id": "sCnPopCS_myz",
        "colab_type": "code",
        "colab": {
          "base_uri": "https://localhost:8080/",
          "height": 136
        },
        "outputId": "cbe51ccd-1286-4da0-d6bd-8a7f9e2fc4cf"
      },
      "source": [
        "recipe_text[recipe_text['diettype'].isna()].index\n",
        "recipe_text[recipe_text['cuisine'].isna()].index #too many na's for cuisine not using it for tagging\n",
        "recipe_text[recipe_text['mealtype'].isna()].index\n"
      ],
      "execution_count": 94,
      "outputs": [
        {
          "output_type": "execute_result",
          "data": {
            "text/plain": [
              "Int64Index([   9,   13,   17,   60,   96,  141,  153,  169,  174,  175,\n",
              "            ...\n",
              "            1745, 1748, 1750, 1751, 1752, 1758, 1759, 1781, 1810, 1811],\n",
              "           dtype='int64', length=155)"
            ]
          },
          "metadata": {
            "tags": []
          },
          "execution_count": 94
        },
        {
          "output_type": "execute_result",
          "data": {
            "text/plain": [
              "Int64Index([ 908,  909,  910,  911,  912,  913,  914,  915,  916,  917,\n",
              "            ...\n",
              "            1578, 1579, 1580, 1581, 1582, 1583, 1584, 1585, 1586, 1587],\n",
              "           dtype='int64', length=680)"
            ]
          },
          "metadata": {
            "tags": []
          },
          "execution_count": 94
        },
        {
          "output_type": "execute_result",
          "data": {
            "text/plain": [
              "Int64Index([], dtype='int64')"
            ]
          },
          "metadata": {
            "tags": []
          },
          "execution_count": 94
        }
      ]
    },
    {
      "cell_type": "code",
      "metadata": {
        "id": "fuBShhG-_my1",
        "colab_type": "code",
        "colab": {
          "base_uri": "https://localhost:8080/",
          "height": 34
        },
        "outputId": "06584ae2-6792-4492-f194-2764326540ec"
      },
      "source": [
        "# recipe_text = recipe_text_all\n",
        "recipe_text.shape"
      ],
      "execution_count": 95,
      "outputs": [
        {
          "output_type": "execute_result",
          "data": {
            "text/plain": [
              "(1815, 9)"
            ]
          },
          "metadata": {
            "tags": []
          },
          "execution_count": 95
        }
      ]
    },
    {
      "cell_type": "code",
      "metadata": {
        "id": "m5ZOZ3XD_my4",
        "colab_type": "code",
        "colab": {}
      },
      "source": [
        "na_index = recipe_text[recipe_text['diettype'].isna()].index\n",
        "\n",
        "\n",
        "nna_index = recipe_text[~recipe_text['diettype'].isna()].index"
      ],
      "execution_count": 0,
      "outputs": []
    },
    {
      "cell_type": "code",
      "metadata": {
        "id": "IT7RDha__my8",
        "colab_type": "code",
        "colab": {}
      },
      "source": [
        "recipe_text_all = recipe_text\n",
        "input_text_all = input_text"
      ],
      "execution_count": 0,
      "outputs": []
    },
    {
      "cell_type": "code",
      "metadata": {
        "id": "uwEbE7Ek_my_",
        "colab_type": "code",
        "colab": {}
      },
      "source": [
        "recipe_text = recipe_text[~recipe_text['diettype'].isna()]"
      ],
      "execution_count": 0,
      "outputs": []
    },
    {
      "cell_type": "code",
      "metadata": {
        "id": "Q-J9N5K0_mzA",
        "colab_type": "code",
        "colab": {}
      },
      "source": [
        "input_text = input_text[nna_index]"
      ],
      "execution_count": 0,
      "outputs": []
    },
    {
      "cell_type": "code",
      "metadata": {
        "id": "Y41v48AH_mzC",
        "colab_type": "code",
        "colab": {
          "base_uri": "https://localhost:8080/",
          "height": 34
        },
        "outputId": "3fd196b4-81e9-4191-f023-c5742fd1ebb3"
      },
      "source": [
        "input_text.shape\n",
        "recipe_text.shape"
      ],
      "execution_count": 100,
      "outputs": [
        {
          "output_type": "execute_result",
          "data": {
            "text/plain": [
              "(1660, 395)"
            ]
          },
          "metadata": {
            "tags": []
          },
          "execution_count": 100
        },
        {
          "output_type": "execute_result",
          "data": {
            "text/plain": [
              "(1660, 9)"
            ]
          },
          "metadata": {
            "tags": []
          },
          "execution_count": 100
        }
      ]
    },
    {
      "cell_type": "code",
      "metadata": {
        "id": "fa_iBh-7_mzH",
        "colab_type": "code",
        "colab": {}
      },
      "source": [
        "labels = recipe_text[['difficulty','mealtype', 'diettype']].to_numpy()"
      ],
      "execution_count": 0,
      "outputs": []
    },
    {
      "cell_type": "code",
      "metadata": {
        "id": "s7LqdmVy_mzJ",
        "colab_type": "code",
        "colab": {
          "base_uri": "https://localhost:8080/",
          "height": 34
        },
        "outputId": "54fe067e-bc39-4d73-b5c9-90751c18182c"
      },
      "source": [
        "labels.shape"
      ],
      "execution_count": 102,
      "outputs": [
        {
          "output_type": "execute_result",
          "data": {
            "text/plain": [
              "(1660, 3)"
            ]
          },
          "metadata": {
            "tags": []
          },
          "execution_count": 102
        }
      ]
    },
    {
      "cell_type": "code",
      "metadata": {
        "id": "ESaspL3k_mzK",
        "colab_type": "code",
        "colab": {
          "base_uri": "https://localhost:8080/",
          "height": 34
        },
        "outputId": "cb6afeb2-0583-4a17-c372-dfdbe5684a9d"
      },
      "source": [
        "from sklearn.preprocessing import MultiLabelBinarizer\n",
        "mlb = MultiLabelBinarizer()\n",
        "labels_13 = mlb.fit_transform(labels)\n",
        "labels_13.shape"
      ],
      "execution_count": 103,
      "outputs": [
        {
          "output_type": "execute_result",
          "data": {
            "text/plain": [
              "(1660, 13)"
            ]
          },
          "metadata": {
            "tags": []
          },
          "execution_count": 103
        }
      ]
    },
    {
      "cell_type": "code",
      "metadata": {
        "id": "9hJyic5X_mzM",
        "colab_type": "code",
        "colab": {}
      },
      "source": [
        "from sklearn.model_selection import train_test_split\n",
        "\n",
        "X_train, X_test, Y_train, Y_test = train_test_split(input_text,labels_13, test_size = 0.10, random_state = 1234)"
      ],
      "execution_count": 0,
      "outputs": []
    },
    {
      "cell_type": "code",
      "metadata": {
        "id": "rdRwm2hc_mzO",
        "colab_type": "code",
        "colab": {
          "base_uri": "https://localhost:8080/",
          "height": 51
        },
        "outputId": "b1cc602f-88c8-424c-a418-25f978e43c60"
      },
      "source": [
        "print(X_train.shape,Y_train.shape)\n",
        "print(X_test.shape,Y_test.shape)"
      ],
      "execution_count": 105,
      "outputs": [
        {
          "output_type": "stream",
          "text": [
            "(1494, 395) (1494, 13)\n",
            "(166, 395) (166, 13)\n"
          ],
          "name": "stdout"
        }
      ]
    },
    {
      "cell_type": "code",
      "metadata": {
        "id": "87LCFVCP_mzR",
        "colab_type": "code",
        "colab": {
          "base_uri": "https://localhost:8080/",
          "height": 34
        },
        "outputId": "b02b7736-f1f7-4537-db8b-9b1d18a09742"
      },
      "source": [
        "vocab_size = len(word_index)\n",
        "EMBEDDING_DIM = 300\n",
        "MAX_DOC_LENGTH = 395 \n",
        "vocab_size"
      ],
      "execution_count": 106,
      "outputs": [
        {
          "output_type": "execute_result",
          "data": {
            "text/plain": [
              "3596"
            ]
          },
          "metadata": {
            "tags": []
          },
          "execution_count": 106
        }
      ]
    },
    {
      "cell_type": "code",
      "metadata": {
        "id": "_Vm6UnfM_mzS",
        "colab_type": "code",
        "colab": {
          "base_uri": "https://localhost:8080/",
          "height": 1000
        },
        "outputId": "4dd853e9-9641-49a4-ed92-30fcd784afc6"
      },
      "source": [
        "# prepare the pretrained GloVe embedding matrix\n",
        "\n",
        "embedding_matrix = zeros((vocab_size+1, EMBEDDING_DIM))\n",
        "\n",
        "for word, i in word_index.items():\n",
        "\tembedding_vector = nlp(word).vector\n",
        "\tif embedding_vector is not None:\n",
        "\t\tembedding_matrix[i] = embedding_vector\n",
        "\n",
        "embedding_matrix.shape\n",
        "embedding_matrix[1]"
      ],
      "execution_count": 107,
      "outputs": [
        {
          "output_type": "execute_result",
          "data": {
            "text/plain": [
              "(3597, 300)"
            ]
          },
          "metadata": {
            "tags": []
          },
          "execution_count": 107
        },
        {
          "output_type": "execute_result",
          "data": {
            "text/plain": [
              "array([ 2.25399993e-03,  3.56130004e-01, -2.98079997e-01,  1.18529998e-01,\n",
              "        1.98190004e-01,  2.55800009e-01, -6.38450027e-01, -2.98200011e-01,\n",
              "       -1.59160003e-01,  1.08120000e+00, -3.28610003e-01,  7.00799972e-02,\n",
              "       -2.41820002e-03,  2.60179996e-01,  9.44520012e-02, -1.21970000e-02,\n",
              "        4.36520018e-02,  1.87880003e+00, -2.99650013e-01, -3.45400006e-01,\n",
              "       -1.59889996e-01,  2.68909991e-01,  2.35670000e-01, -4.32870001e-01,\n",
              "       -9.18790027e-02, -3.42990011e-02, -1.67830005e-01, -7.83960000e-02,\n",
              "        4.11390007e-01, -4.73030001e-01,  1.76540002e-01,  4.09520000e-01,\n",
              "        2.56370008e-01, -6.18689992e-02,  1.33509994e-01, -3.38090003e-01,\n",
              "        3.72079983e-02,  2.76969999e-01,  1.82150006e-01, -9.95619968e-02,\n",
              "       -8.50789994e-02, -6.85070008e-02,  3.77880007e-01, -6.65339977e-02,\n",
              "       -2.06009999e-01,  1.09979999e-03, -9.32250023e-02,  4.24989998e-01,\n",
              "        5.30790016e-02,  1.32799996e-02, -1.12910002e-01, -1.26120001e-01,\n",
              "        4.82620001e-01,  1.53770000e-01, -1.97200011e-03,  6.28200010e-04,\n",
              "       -1.85139999e-01,  2.48019993e-01, -2.65249997e-01, -2.00460002e-01,\n",
              "       -9.52560008e-02, -2.99810003e-02, -5.62810004e-01,  1.59569994e-01,\n",
              "        2.04410002e-01,  8.91060010e-02, -1.92739993e-01,  1.54160000e-02,\n",
              "       -2.58180010e-03,  1.00840002e-01,  3.81669998e-01,  4.04289991e-01,\n",
              "        3.19050014e-01, -8.08579996e-02,  4.70770001e-01,  3.45420003e-01,\n",
              "        1.81050003e-01, -2.55720001e-02,  1.36490002e-01, -3.92509997e-01,\n",
              "       -7.97260031e-02, -3.00419986e-01, -6.16330028e-01,  9.63620022e-02,\n",
              "       -5.89810014e-02, -2.77200006e-02,  3.35040003e-01,  3.94710004e-01,\n",
              "        6.76900029e-01, -1.84719995e-01, -2.10429996e-01,  6.64089993e-03,\n",
              "        1.94220006e-01,  2.11759992e-02,  1.92080006e-01,  2.13609993e-01,\n",
              "       -2.36520007e-01,  2.60580003e-01, -1.33469999e-02,  9.01819989e-02,\n",
              "       -1.38730004e-01,  3.73449996e-02, -3.73350009e-02,  7.12060034e-02,\n",
              "        3.59620005e-01, -6.05300009e-01,  3.86770010e-01, -2.07819995e-02,\n",
              "        1.50049999e-01,  1.52860001e-01, -5.47730029e-01, -7.61189997e-01,\n",
              "        1.56700000e-01,  2.21870005e-01,  1.39730006e-01, -1.77090004e-01,\n",
              "        1.44219995e-01, -5.28800003e-02, -1.11510001e-01, -8.60140026e-02,\n",
              "       -1.65500000e-01, -4.08850014e-01, -1.49810001e-01,  2.80000001e-01,\n",
              "        2.59480000e-01, -1.96500003e-01, -1.77739993e-01,  7.98510015e-02,\n",
              "        2.16399997e-01,  2.69809991e-01, -4.24470007e-01,  2.72190005e-01,\n",
              "       -4.78049994e-01,  1.95060000e-01, -1.30960003e-01,  2.95150001e-02,\n",
              "        9.55239981e-02, -2.09600002e-01, -5.04480004e-01, -2.08600000e-01,\n",
              "       -1.57169998e+00,  5.72260022e-01,  3.03000007e-02,  3.98719996e-01,\n",
              "        1.66800007e-01, -1.17470004e-01,  1.72820002e-01,  2.38419995e-01,\n",
              "       -1.90449998e-01, -2.11610004e-01,  8.37289989e-01,  2.12630004e-01,\n",
              "        3.63959998e-01,  2.45200004e-02, -7.69219995e-02, -2.12300003e-01,\n",
              "        2.47930005e-01, -2.73539990e-01,  1.89309998e-03,  7.29489997e-02,\n",
              "       -1.43020004e-01,  5.28100014e-01, -4.34210002e-01, -2.40439996e-01,\n",
              "       -4.29450005e-01, -3.04820001e-01,  1.89319998e-01, -1.15350001e-01,\n",
              "        3.73739988e-01, -3.61770004e-01,  1.59529999e-01,  5.37850000e-02,\n",
              "        3.12290013e-01, -2.94640005e-01,  1.24080002e-01, -1.67030007e-01,\n",
              "        3.32069993e-01, -1.63230002e-01,  4.70250010e-01,  9.64479968e-02,\n",
              "       -2.51819998e-01,  3.62210006e-01,  2.51929997e-03,  9.83140022e-02,\n",
              "       -2.88919985e-01, -1.32190004e-01, -3.99410009e-01, -4.54089999e-01,\n",
              "       -7.71279991e-01, -2.70830005e-01, -2.07900003e-01,  2.32380003e-01,\n",
              "       -6.86850026e-02, -1.10169999e-01,  4.41170007e-01, -1.00299995e-02,\n",
              "       -2.06290007e-01, -1.35529995e-01,  6.42850026e-02,  4.49110001e-01,\n",
              "        1.41530007e-01, -8.42199981e-01, -3.66759986e-01, -8.58429968e-02,\n",
              "        4.18909997e-01,  4.93889987e-01,  3.03220004e-01,  3.42130005e-01,\n",
              "        1.16020001e-01,  2.83300012e-01, -1.55460000e-01, -2.65830010e-01,\n",
              "        2.00939998e-01, -7.92649984e-01, -2.17109993e-01,  4.81790006e-01,\n",
              "       -1.36289997e-02, -5.53099997e-02, -4.54959989e-01,  1.93330005e-01,\n",
              "       -2.54929990e-01,  3.03760003e-02,  2.22810000e-01,  5.94049990e-01,\n",
              "        2.77619988e-01, -6.58539981e-02, -5.01970015e-02, -1.57810003e-01,\n",
              "       -5.19180000e-01, -9.28940028e-02, -4.69370008e-01,  1.03490002e-01,\n",
              "       -2.92450011e-01,  2.98390001e-01,  7.43890032e-02,  1.53769995e-03,\n",
              "       -2.62719989e-01,  3.52770001e-01,  1.61479995e-01,  1.60359994e-01,\n",
              "       -2.60559991e-02,  2.87959993e-01, -1.43639997e-01, -3.14949989e-01,\n",
              "        7.45410025e-01, -2.89119989e-01, -3.29789996e-01,  4.57840003e-02,\n",
              "        3.69919986e-02,  2.17930004e-02,  3.87579985e-02, -1.11319996e-01,\n",
              "       -6.39479995e-01,  5.51769994e-02, -1.46809995e-01,  4.55339998e-01,\n",
              "       -1.36040002e-01,  5.93149997e-02, -1.08549997e-01, -1.61640003e-01,\n",
              "        5.48699975e-01,  6.63599968e-02,  5.77690005e-01,  9.95519981e-02,\n",
              "       -1.54880002e-01, -2.75929987e-01, -3.60859990e-01, -3.70239988e-02,\n",
              "        3.99769992e-01, -7.90629983e-02,  4.02410001e-01, -1.53060004e-01,\n",
              "        2.87189990e-01,  4.62700017e-02, -2.92199990e-03, -3.51190001e-01,\n",
              "        1.33830002e-02, -1.71480000e-01, -2.34709993e-01,  1.19779997e-01,\n",
              "        2.06369996e-01,  5.39010018e-02,  1.89870000e-01,  1.61780000e-01,\n",
              "       -4.73520011e-01, -3.49539995e-01,  3.77330005e-01, -6.89129978e-02,\n",
              "        8.20500031e-02, -2.70319998e-01, -1.65120006e-01,  2.14860007e-01,\n",
              "       -3.87230009e-01, -4.98250015e-02, -3.02430004e-01, -5.61540008e-01,\n",
              "       -4.00599986e-01, -6.62339985e-01, -3.45919989e-02,  2.91929990e-01])"
            ]
          },
          "metadata": {
            "tags": []
          },
          "execution_count": 107
        }
      ]
    },
    {
      "cell_type": "code",
      "metadata": {
        "id": "z55g_AgB_mzV",
        "colab_type": "code",
        "colab": {
          "base_uri": "https://localhost:8080/",
          "height": 68
        },
        "outputId": "327de468-87c2-4012-ee2e-5d45ce9d848a"
      },
      "source": [
        "# define multi-class model with pre-trained Embedding\n",
        "model = Sequential()\n",
        "model.add(Embedding(vocab_size+1, EMBEDDING_DIM, weights=[embedding_matrix], mask_zero=True, input_length=MAX_DOC_LENGTH, trainable=True))\n",
        "model.add(SpatialDropout1D(0.2))\n",
        "model.add(LSTM(100, dropout=0.2, recurrent_dropout=0.2))\n",
        "model.add(Dense(13, activation='softmax'))\n",
        "\n",
        "model.compile(loss='categorical_crossentropy', optimizer='adam', metrics=['accuracy'])\n",
        "\n",
        "epochs = 5\n",
        "batch_size = 10\n",
        "\n",
        "history = model.fit(X_train, Y_train, epochs=epochs, batch_size=batch_size,\n",
        "                    validation_split=0.1,callbacks=[EarlyStopping(monitor='val_loss', patience=3, \n",
        "                                                                  min_delta=0.0001)])\n"
      ],
      "execution_count": 0,
      "outputs": [
        {
          "output_type": "stream",
          "text": [
            "Train on 1344 samples, validate on 150 samples\n",
            "Epoch 1/5\n",
            "1090/1344 [=======================>......] - ETA: 24s - loss: 5.9362 - acc: 0.4110"
          ],
          "name": "stdout"
        }
      ]
    },
    {
      "cell_type": "code",
      "metadata": {
        "id": "yVRvNMqT_mzX",
        "colab_type": "code",
        "colab": {}
      },
      "source": [
        "accr = model.evaluate(X_test,Y_test)\n",
        "print('Multiclass with pretrained embedding\\n  Loss: {:0.3f}\\n  Accuracy: {:0.3f}'.format(accr[0],accr[1]))"
      ],
      "execution_count": 0,
      "outputs": []
    },
    {
      "cell_type": "code",
      "metadata": {
        "id": "n4GOwrsZ_mzY",
        "colab_type": "code",
        "colab": {}
      },
      "source": [
        "model.save(path + 'model/Multiclass with pretrained embedding.h5')"
      ],
      "execution_count": 0,
      "outputs": []
    },
    {
      "cell_type": "code",
      "metadata": {
        "collapsed": true,
        "id": "9L3dzsU4_mza",
        "colab_type": "code",
        "colab": {}
      },
      "source": [
        "# print(X_train[0],Y_train[0])\n",
        "# mlb.inverse_transform(Y_train)[0]"
      ],
      "execution_count": 0,
      "outputs": []
    },
    {
      "cell_type": "code",
      "metadata": {
        "id": "JDgT0yrU_mzc",
        "colab_type": "code",
        "colab": {}
      },
      "source": [
        "# X_test[0].shape"
      ],
      "execution_count": 0,
      "outputs": []
    },
    {
      "cell_type": "code",
      "metadata": {
        "id": "P4VC30yl_mze",
        "colab_type": "code",
        "colab": {}
      },
      "source": [
        "pred = model.predict(X_test)[0]\n",
        "pred"
      ],
      "execution_count": 0,
      "outputs": []
    },
    {
      "cell_type": "code",
      "metadata": {
        "id": "fW7twxDV_mzi",
        "colab_type": "code",
        "colab": {}
      },
      "source": [
        "model2 = Sequential()\n",
        "model2.add(Embedding(vocab_size+1, EMBEDDING_DIM, mask_zero=True, input_length=MAX_DOC_LENGTH))\n",
        "model2.add(SpatialDropout1D(0.2))\n",
        "model2.add(LSTM(100, dropout=0.2, recurrent_dropout=0.2))\n",
        "model2.add(Dense(13, activation='softmax'))\n",
        "model2.compile(loss='categorical_crossentropy', optimizer='adam', metrics=['accuracy'])\n",
        "\n",
        "epochs = 5\n",
        "batch_size = 10\n",
        "\n",
        "history = model2.fit(X_train, Y_train, epochs=epochs, batch_size=batch_size,\n",
        "                    validation_split=0.1, callbacks=[EarlyStopping(monitor='val_loss', patience=3, \n",
        "                                                                  min_delta=0.0001)])"
      ],
      "execution_count": 0,
      "outputs": []
    },
    {
      "cell_type": "code",
      "metadata": {
        "id": "ENDfI1bS_mzj",
        "colab_type": "code",
        "colab": {}
      },
      "source": [
        "model2.save(path + 'model/ks_recipetext_nopretrain_13labels.h5')\n",
        "# model = load_model('/Users/xun/Documents/Thesis/model/Multiclass without pretrained embedding.h5')"
      ],
      "execution_count": 0,
      "outputs": []
    },
    {
      "cell_type": "code",
      "metadata": {
        "id": "IJWQ3lG2_mzl",
        "colab_type": "code",
        "colab": {}
      },
      "source": [
        "accr = model2.evaluate(X_test,Y_test)\n",
        "print('Multiclass without pretrained embedding \\n  Loss: {:0.3f}\\n  Accuracy: {:0.3f}'.format(accr[0],accr[1]))"
      ],
      "execution_count": 0,
      "outputs": []
    },
    {
      "cell_type": "code",
      "metadata": {
        "id": "IU83_j-h_mzn",
        "colab_type": "code",
        "colab": {}
      },
      "source": [
        "input_layer = Input(shape=(395,))\n",
        "embedding_layer = Embedding(vocab_size+1, EMBEDDING_DIM, mask_zero=True, input_length=MAX_DOC_LENGTH)\n",
        "\n",
        "_ = embedding_layer(input_layer)\n",
        "_ = SpatialDropout1D(0.2)(_)\n",
        "_ = LSTM(100, dropout=0.2, recurrent_dropout=0.2)(_)\n",
        "\n",
        "difficulty_output = Dense(units=3, activation='softmax', name='difficulty_output')(_)\n",
        "mealtype_output = Dense(units=6, activation='softmax', name='mealtype_output')(_)\n",
        "diettype_output = Dense(units=4, activation='softmax', name='diettype_output')(_)\n",
        "\n",
        "model3 = Model(inputs=input_layer, outputs=[difficulty_output, mealtype_output, diettype_output])\n",
        "\n",
        "model3.compile(optimizer='adam', \n",
        "              loss={'difficulty_output': 'categorical_crossentropy', 'mealtype_output': 'categorical_crossentropy', 'diettype_output': 'categorical_crossentropy'},\n",
        "              loss_weights={'difficulty_output': 0.2, 'mealtype_output': 0.5, 'diettype_output': 0.3},\n",
        "              metrics={'difficulty_output': 'accuracy', 'mealtype_output': 'accuracy', 'diettype_output':'accuracy'})\n",
        "\n",
        "# model3.summary()\n"
      ],
      "execution_count": 0,
      "outputs": []
    },
    {
      "cell_type": "code",
      "metadata": {
        "id": "2pVka1Af_mzp",
        "colab_type": "code",
        "colab": {}
      },
      "source": [
        "input_layer = Input(shape=(395,))\n",
        "embedding_layer_pre = Embedding(vocab_size+1, EMBEDDING_DIM, \n",
        "                            weights=[embedding_matrix],\n",
        "                            mask_zero=True, input_length=MAX_DOC_LENGTH,\n",
        "                            trainable=True)\n",
        "\n",
        "_ = embedding_layer_pre(input_layer)\n",
        "_ = SpatialDropout1D(0.2)(_)\n",
        "_ = LSTM(100, dropout=0.2, recurrent_dropout=0.2)(_)\n",
        "\n",
        "difficulty_output = Dense(units=3, activation='softmax', name='difficulty_output')(_)\n",
        "mealtype_output = Dense(units=6, activation='softmax', name='mealtype_output')(_)\n",
        "diettype_output = Dense(units=4, activation='softmax', name='diettype_output')(_)\n",
        "\n",
        "model4 = Model(inputs=input_layer, outputs=[difficulty_output, mealtype_output, diettype_output])\n",
        "\n",
        "model4.compile(optimizer='adam', \n",
        "              loss={'difficulty_output': 'categorical_crossentropy', 'mealtype_output': 'categorical_crossentropy', 'diettype_output': 'categorical_crossentropy'},\n",
        "              loss_weights={'difficulty_output': 0.2, 'mealtype_output': 0.5, 'diettype_output': 0.3},\n",
        "              metrics={'difficulty_output': 'accuracy', 'mealtype_output': 'accuracy', 'diettype_output':'accuracy'})\n",
        "\n"
      ],
      "execution_count": 0,
      "outputs": []
    },
    {
      "cell_type": "code",
      "metadata": {
        "id": "Bk2QXSiS_mzs",
        "colab_type": "code",
        "colab": {}
      },
      "source": [
        "from sklearn.preprocessing import LabelBinarizer\n",
        "\n",
        "lb = LabelBinarizer()\n",
        "l_difficulty = lb.fit_transform(recipe_text['difficulty'].values)\n",
        "l_difficulty.shape\n",
        "l_mealtype = lb.fit_transform(recipe_text['mealtype'].values)\n",
        "l_mealtype.shape\n",
        "l_diettype = lb.fit_transform(recipe_text['diettype'].values)\n",
        "l_diettype.shape\n",
        "labels_3 = np.hstack((l_difficulty, l_mealtype, l_diettype))\n",
        "labels_3.shape\n",
        "\n",
        "X_train, X_test, Y_train, Y_test = train_test_split(input_text,labels_3, test_size = 0.10, random_state = 1234)"
      ],
      "execution_count": 0,
      "outputs": []
    },
    {
      "cell_type": "code",
      "metadata": {
        "id": "VVTO6R4c_mzv",
        "colab_type": "code",
        "colab": {}
      },
      "source": [
        "print(X_train.shape,Y_train.shape)\n",
        "print(X_test.shape,Y_test.shape)"
      ],
      "execution_count": 0,
      "outputs": []
    },
    {
      "cell_type": "code",
      "metadata": {
        "id": "3zsB2m-Q_mzx",
        "colab_type": "code",
        "colab": {}
      },
      "source": [
        "\n",
        "difficulty_train = Y_train[:,0:3]\n",
        "mealtype_train = Y_train[:,3:9]\n",
        "diettype_train = Y_train[:,9:13]"
      ],
      "execution_count": 0,
      "outputs": []
    },
    {
      "cell_type": "code",
      "metadata": {
        "id": "XtFtgm6A_mzy",
        "colab_type": "code",
        "colab": {}
      },
      "source": [
        "difficulty_test = Y_test[:,0:3]\n",
        "mealtype_test = Y_test[:,3:9]\n",
        "diettype_test = Y_test[:,9:13]"
      ],
      "execution_count": 0,
      "outputs": []
    },
    {
      "cell_type": "code",
      "metadata": {
        "id": "7KHWb7lW_mz1",
        "colab_type": "code",
        "colab": {}
      },
      "source": [
        "from keras.callbacks import ModelCheckpoint\n",
        "model_chk_path = path + 'model'\n",
        "epochs = 5\n",
        "batch_size = 32\n",
        "mcp = ModelCheckpoint(model_chk_path, monitor=\"val_acc\",\n",
        "                      save_best_only=True, save_weights_only=False)\n",
        "\n",
        "history = model3.fit(X_train, [difficulty_train, mealtype_train, diettype_train], epochs=epochs, batch_size=batch_size,\n",
        "                    validation_split=0.1,callbacks=[mcp])\n",
        "\n"
      ],
      "execution_count": 0,
      "outputs": []
    },
    {
      "cell_type": "code",
      "metadata": {
        "id": "dJQmYTSn_mz2",
        "colab_type": "code",
        "colab": {}
      },
      "source": [
        "#new model with community recipes\n",
        "accr = model3.evaluate(X_test, [difficulty_test, mealtype_test, diettype_test])\n",
        "print('Multi-outputs without GloVe pretrained embedding \\n  Loss: {:0.3f}\\n  Accuracy: {:0.3f}'.format(accr[0],accr[1]))"
      ],
      "execution_count": 0,
      "outputs": []
    },
    {
      "cell_type": "code",
      "metadata": {
        "id": "IC2345OC_mz4",
        "colab_type": "code",
        "colab": {}
      },
      "source": [
        "accr = model4.evaluate(X_test, [difficulty_test, mealtype_test, diettype_test])\n",
        "print('Multi-outputs with GloVe pretrained embedding \\n  Loss: {:0.3f}\\n  Accuracy: {:0.3f}'.format(accr[0],accr[1]))"
      ],
      "execution_count": 0,
      "outputs": []
    },
    {
      "cell_type": "code",
      "metadata": {
        "id": "kMNNNzvtZQxF",
        "colab_type": "code",
        "colab": {}
      },
      "source": [
        "model3.save(path + 'model/Multi-outputs without pretrained embedding.h5')\n",
        "model4.save(path + 'model/Multi-outputs with pretrained embedding.h5')"
      ],
      "execution_count": 0,
      "outputs": []
    },
    {
      "cell_type": "code",
      "metadata": {
        "id": "GcCkcACC_mz6",
        "colab_type": "code",
        "colab": {}
      },
      "source": [
        "# difficulty_prep, mealtype_prep, diettype_prep = model2.predict(X_test)"
      ],
      "execution_count": 0,
      "outputs": []
    },
    {
      "cell_type": "code",
      "metadata": {
        "id": "lsb1edC9_mz7",
        "colab_type": "code",
        "colab": {}
      },
      "source": [
        "# embedding_pt = model.layers[0].get_weights()[0][1:]\n",
        "embedding_own = model3.layers[1].get_weights()[0]\n",
        "embedding_fine-tuned_GloVe = model4.layers[1].get_weights()[0]"
      ],
      "execution_count": 0,
      "outputs": []
    },
    {
      "cell_type": "code",
      "metadata": {
        "id": "xTJICSsR_mz8",
        "colab_type": "code",
        "colab": {}
      },
      "source": [
        "# embedding_pt.shape\n",
        "embedding_own.shape\n",
        "embedding_fine-tuned_GloVe.shape"
      ],
      "execution_count": 0,
      "outputs": []
    },
    {
      "cell_type": "code",
      "metadata": {
        "id": "CcvBXYh9_mz9",
        "colab_type": "code",
        "colab": {}
      },
      "source": [
        "recipe_text = recipe_text_all\n",
        "recipe_text.shape"
      ],
      "execution_count": 0,
      "outputs": []
    },
    {
      "cell_type": "code",
      "metadata": {
        "id": "Pp1UFccD_mz_",
        "colab_type": "code",
        "colab": {}
      },
      "source": [
        "from sklearn.feature_extraction.text import TfidfVectorizer"
      ],
      "execution_count": 0,
      "outputs": []
    },
    {
      "cell_type": "code",
      "metadata": {
        "id": "HeqC7nbz_m0D",
        "colab_type": "code",
        "colab": {}
      },
      "source": [
        "len(word_index.keys())\n",
        "word_index['na']=0\n",
        "word_index['na']"
      ],
      "execution_count": 0,
      "outputs": []
    },
    {
      "cell_type": "code",
      "metadata": {
        "id": "_LpWUXsh_m0F",
        "colab_type": "code",
        "colab": {}
      },
      "source": [
        "# docs = recipe_text['steps_text']\n",
        "\n",
        "\n",
        "tfidf = TfidfVectorizer(vocabulary=word_index)"
      ],
      "execution_count": 0,
      "outputs": []
    },
    {
      "cell_type": "code",
      "metadata": {
        "id": "aTWUMhAn_m0G",
        "colab_type": "code",
        "colab": {}
      },
      "source": [
        "tfidf_emb_vecs = tfidf.fit_transform(recipe_text['steps_text'].values)\n",
        "tfidf_emb_vecs.shape"
      ],
      "execution_count": 0,
      "outputs": []
    },
    {
      "cell_type": "code",
      "metadata": {
        "id": "l0dhxIFA_m0I",
        "colab_type": "code",
        "colab": {}
      },
      "source": [
        "tfidf_emb_vecs[0]"
      ],
      "execution_count": 0,
      "outputs": []
    },
    {
      "cell_type": "code",
      "metadata": {
        "id": "8TeTu3Ii_m0K",
        "colab_type": "code",
        "colab": {}
      },
      "source": [
        "# len(recipe_text['steps'][0])\n",
        "recipe_text['steps_text'].values[0]\n",
        "len(set(input_text[0]))-1"
      ],
      "execution_count": 0,
      "outputs": []
    },
    {
      "cell_type": "code",
      "metadata": {
        "id": "WTFoldkB_m0L",
        "colab_type": "code",
        "colab": {}
      },
      "source": [
        "from scipy.sparse import csr_matrix\n",
        "\n",
        "docs_emb_own = tfidf_emb_vecs.dot(embedding_own)\n",
        "# docs_emb = np.dot(embedding_own, tfidf_emb_vecs) \n",
        "\n",
        "doc_emb_fine-tuned = tfidf_emb_vecs.dot(embedding_fine-tuned_GloVe)"
      ],
      "execution_count": 0,
      "outputs": []
    },
    {
      "cell_type": "code",
      "metadata": {
        "id": "opMoEKfU_m0N",
        "colab_type": "code",
        "colab": {}
      },
      "source": [
        "type(docs_emb)\n",
        "docs_emb.shape"
      ],
      "execution_count": 0,
      "outputs": []
    },
    {
      "cell_type": "code",
      "metadata": {
        "colab_type": "code",
        "id": "CHt2uSE_cDnk",
        "colab": {}
      },
      "source": [
        "pd.DataFrame(docs_emb_own).to_csv(path + '/recipe_data/recipe_embedding_own.csv', index = None, header=False)\n",
        "\n",
        "pd.DataFrame(doc_emb_fine-tuned).to_csv(path + '/recipe_data/recipe_embedding_fine-tuned.csv', index = None, header=False)\n",
        "# docs_emb.to_csv(r'', , index = None, header=False)"
      ],
      "execution_count": 0,
      "outputs": []
    },
    {
      "cell_type": "code",
      "metadata": {
        "id": "Ujkw-pCO_m0k",
        "colab_type": "code",
        "colab": {}
      },
      "source": [
        "# Create mappings of recipe and index \n",
        "index_to_recipe = {}\n",
        "recipe_to_index = {}\n",
        "for (index, recipe) in enumerate(titles.title_en):\n",
        "    recipe_to_index[recipe] = index\n",
        "    index_to_recipe[index] = recipe\n",
        "\n",
        "# index_to_recipe\n",
        "# recipe_to_index\n",
        "np.save(path + '/recipe_data/index_to_recipe.npy', index_to_recipe) \n",
        "np.save(path + '/Users/xun/Documents/Thesis/recipe_data/recipe_to_index.npy', recipe_to_index) "
      ],
      "execution_count": 0,
      "outputs": []
    },
    {
      "cell_type": "code",
      "metadata": {
        "id": "i5qMLNxs_m0l",
        "colab_type": "code",
        "colab": {}
      },
      "source": [
        ""
      ],
      "execution_count": 0,
      "outputs": []
    }
  ]
}